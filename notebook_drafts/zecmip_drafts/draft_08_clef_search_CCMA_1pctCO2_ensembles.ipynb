{
 "cells": [
  {
   "cell_type": "code",
   "execution_count": 2,
   "id": "a7e076d8-b479-4186-9b7f-4010761fd588",
   "metadata": {
    "tags": []
   },
   "outputs": [],
   "source": [
    "import clef"
   ]
  },
  {
   "cell_type": "code",
   "execution_count": 4,
   "id": "2efb5396-7f5c-4817-9af4-d33d2a104a8c",
   "metadata": {
    "tags": []
   },
   "outputs": [
    {
     "name": "stdout",
     "output_type": "stream",
     "text": [
      "Usage: clef cmip6 [OPTIONS] [QUERY]...\n",
      "\n",
      "  Search ESGF and local database for CMIP6 files Constraints can be specified\n",
      "  multiple times, in which case they are combined using OR:  -v tas -v tasmin\n",
      "  will return anything matching variable = 'tas' or variable = 'tasmin'. The\n",
      "  --latest flag will check ESGF for the latest version available, this is the\n",
      "  default behaviour\n",
      "\n",
      "Options:\n",
      "  -mip, --activity [AerChemMIP|C4MIP|CDRMIP|CFMIP|CMIP|CORDEX|DAMIP|DCPP|DynVarMIP|FAFMIP|GMMIP|GeoMIP|HighResMIP|ISMIP6|LS3MIP|LUMIP|OMIP|PAMIP|PMIP|RFMIP|SIMIP|ScenarioMIP|VIACSAB|VolMIP]\n",
      "  -e, --experiment x              CMIP6 experiment, list of available depends\n",
      "                                  on activity\n",
      "  --source_type [AER|AGCM|AOGCM|BGC|CHEM|ISM|LAND|OGCM|RAD|SLAB]\n",
      "  -t, --table x                   CMIP6 CMOR table: Amon, SIday, Oday ...\n",
      "  -m, --model, --source_id x      CMIP6 model id: GFDL-AM4, CNRM-CM6-1 ...\n",
      "  -v, --variable x                CMIP6 variable name as in filenames\n",
      "  -mi, --member TEXT              CMIP6 member id: <sub-exp-id>-r#i#p#f#\n",
      "  -g, --grid, --grid_label TEXT   CMIP6 grid label: i.e. gn for the model\n",
      "                                  native grid\n",
      "  -nr, --resolution, --nominal_resolution TEXT\n",
      "                                  Approximate resolution: '250 km', pass in\n",
      "                                  quotes\n",
      "  --frequency [1hr|1hrCM|1hrPt|3hr|3hrPt|6hr|6hrPt|day|dec|fx|mon|monC|monPt|subhrPt|yr|yrPt]\n",
      "  --realm [aerosol|atmos|atmosChem|land|landIce|ocean|ocnBgchem|seaIce]\n",
      "  -se, --sub_experiment_id TEXT   Only available for hindcast and forecast\n",
      "                                  experiments: sYYYY\n",
      "  -vl, --variant_label TEXT       Indicates a model variant: r#i#p#f#\n",
      "  --cf_standard_name TEXT         CF variable standard_name, use instead of\n",
      "                                  variable constraint\n",
      "  --and [variable_id|experiment_id|table_id|realm|frequency|member_id|source_id|source_type|activity_id|grid|grid_label|nominal_resolution|sub_experiment_id]\n",
      "                                  Attributes for which we want to add AND\n",
      "                                  filter, i.e. `--and variable_id` to apply to\n",
      "                                  variable values\n",
      "  --cite                          Write list of citations for query results,\n",
      "                                  works only with --remote and --local\n",
      "                                  options. Default: False\n",
      "  --institution TEXT              Modelling group institution id: IPSL, NOAA-\n",
      "                                  GFDL ...\n",
      "  --latest / --all-versions       Return only the latest version or all of\n",
      "                                  them. Default: --latest\n",
      "  --replica / --no-replica        Return both original files and replicas.\n",
      "                                  Default: --no-replica\n",
      "  --distrib / --no-distrib        Distribute search across all ESGF nodes.\n",
      "                                  Default: --distrib\n",
      "  --csv / --no-csv                Send output to csv file including extra\n",
      "                                  information. Works only with --local and\n",
      "                                  --remote. Default: --no-csv\n",
      "  --stats / --no-stats            Write summary of query results. Works only\n",
      "                                  with --local and --remote. Default: --no-\n",
      "                                  stats\n",
      "  --debug / --no-debug            Show debug output. Default: --no-debug\n",
      "  -h, --help                      Show this message and exit.\n"
     ]
    }
   ],
   "source": [
    "! clef cmip6 --help"
   ]
  },
  {
   "cell_type": "code",
   "execution_count": 19,
   "id": "d6a9f5fa-0b09-4fd8-9086-d141762fdbd2",
   "metadata": {
    "tags": []
   },
   "outputs": [
    {
     "name": "stdout",
     "output_type": "stream",
     "text": [
      "Usage: clef cmip6 [OPTIONS] [QUERY]...\n",
      "\n",
      "  Search ESGF and local database for CMIP6 files Constraints can be specified\n",
      "  multiple times, in which case they are combined using OR:  -v tas -v tasmin\n",
      "  will return anything matching variable = 'tas' or variable = 'tasmin'. The\n",
      "  --latest flag will check ESGF for the latest version available, this is the\n",
      "  default behaviour\n",
      "\n",
      "Options:\n",
      "  -mip, --activity [AerChemMIP|C4MIP|CDRMIP|CFMIP|CMIP|CORDEX|DAMIP|DCPP|DynVarMIP|FAFMIP|GMMIP|GeoMIP|HighResMIP|ISMIP6|LS3MIP|LUMIP|OMIP|PAMIP|PMIP|RFMIP|SIMIP|ScenarioMIP|VIACSAB|VolMIP]\n",
      "  -e, --experiment x              CMIP6 experiment, list of available depends\n",
      "                                  on activity\n",
      "  --source_type [AER|AGCM|AOGCM|BGC|CHEM|ISM|LAND|OGCM|RAD|SLAB]\n",
      "  -t, --table x                   CMIP6 CMOR table: Amon, SIday, Oday ...\n",
      "  -m, --model, --source_id x      CMIP6 model id: GFDL-AM4, CNRM-CM6-1 ...\n",
      "  -v, --variable x                CMIP6 variable name as in filenames\n",
      "  -mi, --member TEXT              CMIP6 member id: <sub-exp-id>-r#i#p#f#\n",
      "  -g, --grid, --grid_label TEXT   CMIP6 grid label: i.e. gn for the model\n",
      "                                  native grid\n",
      "  -nr, --resolution, --nominal_resolution TEXT\n",
      "                                  Approximate resolution: '250 km', pass in\n",
      "                                  quotes\n",
      "  --frequency [1hr|1hrCM|1hrPt|3hr|3hrPt|6hr|6hrPt|day|dec|fx|mon|monC|monPt|subhrPt|yr|yrPt]\n",
      "  --realm [aerosol|atmos|atmosChem|land|landIce|ocean|ocnBgchem|seaIce]\n",
      "  -se, --sub_experiment_id TEXT   Only available for hindcast and forecast\n",
      "                                  experiments: sYYYY\n",
      "  -vl, --variant_label TEXT       Indicates a model variant: r#i#p#f#\n",
      "  --cf_standard_name TEXT         CF variable standard_name, use instead of\n",
      "                                  variable constraint\n",
      "  --and [variable_id|experiment_id|table_id|realm|frequency|member_id|source_id|source_type|activity_id|grid|grid_label|nominal_resolution|sub_experiment_id]\n",
      "                                  Attributes for which we want to add AND\n",
      "                                  filter, i.e. `--and variable_id` to apply to\n",
      "                                  variable values\n",
      "  --cite                          Write list of citations for query results,\n",
      "                                  works only with --remote and --local\n",
      "                                  options. Default: False\n",
      "  --institution TEXT              Modelling group institution id: IPSL, NOAA-\n",
      "                                  GFDL ...\n",
      "  --latest / --all-versions       Return only the latest version or all of\n",
      "                                  them. Default: --latest\n",
      "  --replica / --no-replica        Return both original files and replicas.\n",
      "                                  Default: --no-replica\n",
      "  --distrib / --no-distrib        Distribute search across all ESGF nodes.\n",
      "                                  Default: --distrib\n",
      "  --csv / --no-csv                Send output to csv file including extra\n",
      "                                  information. Works only with --local and\n",
      "                                  --remote. Default: --no-csv\n",
      "  --stats / --no-stats            Write summary of query results. Works only\n",
      "                                  with --local and --remote. Default: --no-\n",
      "                                  stats\n",
      "  --debug / --no-debug            Show debug output. Default: --no-debug\n",
      "  -h, --help                      Show this message and exit.\n"
     ]
    }
   ],
   "source": [
    "! clef cmip6 -h"
   ]
  },
  {
   "cell_type": "code",
   "execution_count": 20,
   "id": "8c8fde2b-d6b3-4839-994d-68bd5aa958ab",
   "metadata": {
    "tags": []
   },
   "outputs": [
    {
     "name": "stdout",
     "output_type": "stream",
     "text": [
      "/g/data/fs38/publications/CMIP6/CMIP/CSIRO-ARCCSS/ACCESS-CM2/1pctCO2/r1i1p1f1/Amon/pr/gn/v20191109/\n",
      "/g/data/fs38/publications/CMIP6/CMIP/CSIRO-ARCCSS/ACCESS-CM2/1pctCO2/r1i1p1f1/day/pr/gn/v20191214/\n",
      "/g/data/fs38/publications/CMIP6/CMIP/CSIRO-ARCCSS/ACCESS-CM2/abrupt-4xCO2/r1i1p1f1/Amon/pr/gn/v20191108/\n",
      "/g/data/fs38/publications/CMIP6/CMIP/CSIRO-ARCCSS/ACCESS-CM2/abrupt-4xCO2/r1i1p1f1/day/pr/gn/v20191108/\n",
      "/g/data/fs38/publications/CMIP6/CMIP/CSIRO-ARCCSS/ACCESS-CM2/amip/r1i1p1f1/3hr/pr/gn/v20191108/\n",
      "/g/data/fs38/publications/CMIP6/CMIP/CSIRO-ARCCSS/ACCESS-CM2/amip/r1i1p1f1/Amon/pr/gn/v20191108/\n",
      "/g/data/fs38/publications/CMIP6/CMIP/CSIRO-ARCCSS/ACCESS-CM2/amip/r1i1p1f1/day/pr/gn/v20191108/\n",
      "/g/data/fs38/publications/CMIP6/CMIP/CSIRO-ARCCSS/ACCESS-CM2/amip/r1i1p1f2/3hr/pr/gn/v20210419/\n",
      "/g/data/fs38/publications/CMIP6/CMIP/CSIRO-ARCCSS/ACCESS-CM2/amip/r1i1p1f2/Amon/pr/gn/v20210419/\n",
      "/g/data/fs38/publications/CMIP6/CMIP/CSIRO-ARCCSS/ACCESS-CM2/amip/r1i1p1f2/day/pr/gn/v20210419/\n",
      "/g/data/fs38/publications/CMIP6/CMIP/CSIRO-ARCCSS/ACCESS-CM2/amip/r2i1p1f1/3hr/pr/gn/v20191125/\n",
      "/g/data/fs38/publications/CMIP6/CMIP/CSIRO-ARCCSS/ACCESS-CM2/amip/r2i1p1f1/Amon/pr/gn/v20191125/\n",
      "/g/data/fs38/publications/CMIP6/CMIP/CSIRO-ARCCSS/ACCESS-CM2/amip/r2i1p1f1/day/pr/gn/v20191125/\n",
      "/g/data/fs38/publications/CMIP6/CMIP/CSIRO-ARCCSS/ACCESS-CM2/amip/r2i1p1f2/3hr/pr/gn/v20210419/\n",
      "/g/data/fs38/publications/CMIP6/CMIP/CSIRO-ARCCSS/ACCESS-CM2/amip/r2i1p1f2/Amon/pr/gn/v20210419/\n",
      "/g/data/fs38/publications/CMIP6/CMIP/CSIRO-ARCCSS/ACCESS-CM2/amip/r2i1p1f2/day/pr/gn/v20210419/\n",
      "/g/data/fs38/publications/CMIP6/CMIP/CSIRO-ARCCSS/ACCESS-CM2/amip/r3i1p1f1/3hr/pr/gn/v20191125/\n",
      "/g/data/fs38/publications/CMIP6/CMIP/CSIRO-ARCCSS/ACCESS-CM2/amip/r3i1p1f1/Amon/pr/gn/v20191125/\n",
      "/g/data/fs38/publications/CMIP6/CMIP/CSIRO-ARCCSS/ACCESS-CM2/amip/r3i1p1f1/day/pr/gn/v20191125/\n",
      "/g/data/fs38/publications/CMIP6/CMIP/CSIRO-ARCCSS/ACCESS-CM2/amip/r3i1p1f2/3hr/pr/gn/v20210419/\n",
      "/g/data/fs38/publications/CMIP6/CMIP/CSIRO-ARCCSS/ACCESS-CM2/amip/r3i1p1f2/Amon/pr/gn/v20210419/\n",
      "/g/data/fs38/publications/CMIP6/CMIP/CSIRO-ARCCSS/ACCESS-CM2/amip/r3i1p1f2/day/pr/gn/v20210419/\n",
      "/g/data/fs38/publications/CMIP6/CMIP/CSIRO-ARCCSS/ACCESS-CM2/amip/r4i1p1f1/3hr/pr/gn/v20191127/\n",
      "/g/data/fs38/publications/CMIP6/CMIP/CSIRO-ARCCSS/ACCESS-CM2/amip/r4i1p1f1/Amon/pr/gn/v20191127/\n",
      "/g/data/fs38/publications/CMIP6/CMIP/CSIRO-ARCCSS/ACCESS-CM2/amip/r4i1p1f1/day/pr/gn/v20191127/\n",
      "/g/data/fs38/publications/CMIP6/CMIP/CSIRO-ARCCSS/ACCESS-CM2/historical/r1i1p1f1/3hr/pr/gn/v20191108/\n",
      "/g/data/fs38/publications/CMIP6/CMIP/CSIRO-ARCCSS/ACCESS-CM2/historical/r1i1p1f1/3hr/pr/gn/v20210325/\n",
      "/g/data/fs38/publications/CMIP6/CMIP/CSIRO-ARCCSS/ACCESS-CM2/historical/r1i1p1f1/Amon/pr/gn/v20191108/\n",
      "/g/data/fs38/publications/CMIP6/CMIP/CSIRO-ARCCSS/ACCESS-CM2/historical/r1i1p1f1/day/pr/gn/v20191108/\n",
      "/g/data/fs38/publications/CMIP6/CMIP/CSIRO-ARCCSS/ACCESS-CM2/historical/r2i1p1f1/Amon/pr/gn/v20191125/\n",
      "/g/data/fs38/publications/CMIP6/CMIP/CSIRO-ARCCSS/ACCESS-CM2/historical/r2i1p1f1/day/pr/gn/v20191125/\n",
      "/g/data/fs38/publications/CMIP6/CMIP/CSIRO-ARCCSS/ACCESS-CM2/historical/r3i1p1f1/Amon/pr/gn/v20200306/\n",
      "/g/data/fs38/publications/CMIP6/CMIP/CSIRO-ARCCSS/ACCESS-CM2/historical/r3i1p1f1/day/pr/gn/v20200306/\n",
      "/g/data/fs38/publications/CMIP6/CMIP/CSIRO-ARCCSS/ACCESS-CM2/historical/r4i1p1f1/3hr/pr/gn/v20210607/\n",
      "/g/data/fs38/publications/CMIP6/CMIP/CSIRO-ARCCSS/ACCESS-CM2/historical/r4i1p1f1/Amon/pr/gn/v20210607/\n",
      "/g/data/fs38/publications/CMIP6/CMIP/CSIRO-ARCCSS/ACCESS-CM2/historical/r4i1p1f1/day/pr/gn/v20210607/\n",
      "/g/data/fs38/publications/CMIP6/CMIP/CSIRO-ARCCSS/ACCESS-CM2/historical/r5i1p1f1/3hr/pr/gn/v20210607/\n",
      "/g/data/fs38/publications/CMIP6/CMIP/CSIRO-ARCCSS/ACCESS-CM2/historical/r5i1p1f1/Amon/pr/gn/v20210607/\n",
      "/g/data/fs38/publications/CMIP6/CMIP/CSIRO-ARCCSS/ACCESS-CM2/historical/r5i1p1f1/day/pr/gn/v20210607/\n",
      "/g/data/fs38/publications/CMIP6/CMIP/CSIRO-ARCCSS/ACCESS-CM2/piControl/r1i1p1f1/3hr/pr/gn/v20191112/\n",
      "/g/data/fs38/publications/CMIP6/CMIP/CSIRO-ARCCSS/ACCESS-CM2/piControl/r1i1p1f1/Amon/pr/gn/v20191112/\n",
      "/g/data/fs38/publications/CMIP6/CMIP/CSIRO-ARCCSS/ACCESS-CM2/piControl/r1i1p1f1/day/pr/gn/v20191112/\n",
      "/g/data/fs38/publications/CMIP6/DAMIP/CSIRO-ARCCSS/ACCESS-CM2/hist-GHG/r1i1p1f1/Amon/pr/gn/v20201120/\n",
      "/g/data/fs38/publications/CMIP6/DAMIP/CSIRO-ARCCSS/ACCESS-CM2/hist-GHG/r1i1p1f1/day/pr/gn/v20201120/\n",
      "/g/data/fs38/publications/CMIP6/DAMIP/CSIRO-ARCCSS/ACCESS-CM2/hist-GHG/r2i1p1f1/Amon/pr/gn/v20201120/\n",
      "/g/data/fs38/publications/CMIP6/DAMIP/CSIRO-ARCCSS/ACCESS-CM2/hist-GHG/r2i1p1f1/day/pr/gn/v20201120/\n",
      "/g/data/fs38/publications/CMIP6/DAMIP/CSIRO-ARCCSS/ACCESS-CM2/hist-GHG/r3i1p1f1/Amon/pr/gn/v20201120/\n",
      "/g/data/fs38/publications/CMIP6/DAMIP/CSIRO-ARCCSS/ACCESS-CM2/hist-GHG/r3i1p1f1/day/pr/gn/v20201120/\n",
      "/g/data/fs38/publications/CMIP6/DAMIP/CSIRO-ARCCSS/ACCESS-CM2/hist-aer/r1i1p1f1/Amon/pr/gn/v20201120/\n",
      "/g/data/fs38/publications/CMIP6/DAMIP/CSIRO-ARCCSS/ACCESS-CM2/hist-aer/r1i1p1f1/day/pr/gn/v20201120/\n",
      "/g/data/fs38/publications/CMIP6/DAMIP/CSIRO-ARCCSS/ACCESS-CM2/hist-aer/r2i1p1f1/Amon/pr/gn/v20201120/\n",
      "/g/data/fs38/publications/CMIP6/DAMIP/CSIRO-ARCCSS/ACCESS-CM2/hist-aer/r2i1p1f1/day/pr/gn/v20201120/\n",
      "/g/data/fs38/publications/CMIP6/DAMIP/CSIRO-ARCCSS/ACCESS-CM2/hist-aer/r3i1p1f1/Amon/pr/gn/v20201120/\n",
      "/g/data/fs38/publications/CMIP6/DAMIP/CSIRO-ARCCSS/ACCESS-CM2/hist-aer/r3i1p1f1/day/pr/gn/v20201120/\n",
      "/g/data/fs38/publications/CMIP6/DAMIP/CSIRO-ARCCSS/ACCESS-CM2/hist-nat/r1i1p1f1/Amon/pr/gn/v20201120/\n",
      "/g/data/fs38/publications/CMIP6/DAMIP/CSIRO-ARCCSS/ACCESS-CM2/hist-nat/r1i1p1f1/day/pr/gn/v20201120/\n",
      "/g/data/fs38/publications/CMIP6/DAMIP/CSIRO-ARCCSS/ACCESS-CM2/hist-nat/r2i1p1f1/Amon/pr/gn/v20201120/\n",
      "/g/data/fs38/publications/CMIP6/DAMIP/CSIRO-ARCCSS/ACCESS-CM2/hist-nat/r2i1p1f1/day/pr/gn/v20201120/\n",
      "/g/data/fs38/publications/CMIP6/DAMIP/CSIRO-ARCCSS/ACCESS-CM2/hist-nat/r3i1p1f1/Amon/pr/gn/v20201120/\n",
      "/g/data/fs38/publications/CMIP6/DAMIP/CSIRO-ARCCSS/ACCESS-CM2/hist-nat/r3i1p1f1/day/pr/gn/v20201120/\n",
      "/g/data/fs38/publications/CMIP6/FAFMIP/CSIRO-ARCCSS/ACCESS-CM2/faf-all/r1i1p1f1/Amon/pr/gn/v20200512/\n",
      "/g/data/fs38/publications/CMIP6/FAFMIP/CSIRO-ARCCSS/ACCESS-CM2/faf-all/r1i1p1f1/day/pr/gn/v20200512/\n",
      "/g/data/fs38/publications/CMIP6/FAFMIP/CSIRO-ARCCSS/ACCESS-CM2/faf-heat-NA0pct/r1i1p1f1/Amon/pr/gn/v20200611/\n",
      "/g/data/fs38/publications/CMIP6/FAFMIP/CSIRO-ARCCSS/ACCESS-CM2/faf-heat-NA0pct/r1i1p1f1/day/pr/gn/v20200611/\n",
      "/g/data/fs38/publications/CMIP6/FAFMIP/CSIRO-ARCCSS/ACCESS-CM2/faf-heat-NA50pct/r1i1p1f1/Amon/pr/gn/v20200611/\n",
      "/g/data/fs38/publications/CMIP6/FAFMIP/CSIRO-ARCCSS/ACCESS-CM2/faf-heat-NA50pct/r1i1p1f1/day/pr/gn/v20200611/\n",
      "/g/data/fs38/publications/CMIP6/FAFMIP/CSIRO-ARCCSS/ACCESS-CM2/faf-heat/r1i1p1f1/Amon/pr/gn/v20191210/\n",
      "/g/data/fs38/publications/CMIP6/FAFMIP/CSIRO-ARCCSS/ACCESS-CM2/faf-heat/r1i1p1f1/day/pr/gn/v20191210/\n",
      "/g/data/fs38/publications/CMIP6/FAFMIP/CSIRO-ARCCSS/ACCESS-CM2/faf-passiveheat/r1i1p1f1/Amon/pr/gn/v20191210/\n",
      "/g/data/fs38/publications/CMIP6/FAFMIP/CSIRO-ARCCSS/ACCESS-CM2/faf-passiveheat/r1i1p1f1/day/pr/gn/v20191210/\n",
      "/g/data/fs38/publications/CMIP6/FAFMIP/CSIRO-ARCCSS/ACCESS-CM2/faf-stress/r1i1p1f1/Amon/pr/gn/v20191210/\n",
      "/g/data/fs38/publications/CMIP6/FAFMIP/CSIRO-ARCCSS/ACCESS-CM2/faf-stress/r1i1p1f1/day/pr/gn/v20191210/\n",
      "/g/data/fs38/publications/CMIP6/FAFMIP/CSIRO-ARCCSS/ACCESS-CM2/faf-water/r1i1p1f1/Amon/pr/gn/v20191210/\n",
      "/g/data/fs38/publications/CMIP6/FAFMIP/CSIRO-ARCCSS/ACCESS-CM2/faf-water/r1i1p1f1/day/pr/gn/v20191210/\n",
      "/g/data/fs38/publications/CMIP6/RFMIP/CSIRO-ARCCSS/ACCESS-CM2/piClim-4xCO2/r1i1p1f1/Amon/pr/gn/v20200428/\n",
      "/g/data/fs38/publications/CMIP6/RFMIP/CSIRO-ARCCSS/ACCESS-CM2/piClim-4xCO2/r1i1p1f1/day/pr/gn/v20200428/\n",
      "/g/data/fs38/publications/CMIP6/RFMIP/CSIRO-ARCCSS/ACCESS-CM2/piClim-aer/r1i1p1f1/Amon/pr/gn/v20200428/\n",
      "/g/data/fs38/publications/CMIP6/RFMIP/CSIRO-ARCCSS/ACCESS-CM2/piClim-aer/r1i1p1f1/day/pr/gn/v20200428/\n",
      "/g/data/fs38/publications/CMIP6/RFMIP/CSIRO-ARCCSS/ACCESS-CM2/piClim-anthro/r1i1p1f1/Amon/pr/gn/v20200428/\n",
      "/g/data/fs38/publications/CMIP6/RFMIP/CSIRO-ARCCSS/ACCESS-CM2/piClim-anthro/r1i1p1f1/day/pr/gn/v20200428/\n",
      "/g/data/fs38/publications/CMIP6/RFMIP/CSIRO-ARCCSS/ACCESS-CM2/piClim-control/r1i1p1f1/Amon/pr/gn/v20200428/\n",
      "/g/data/fs38/publications/CMIP6/RFMIP/CSIRO-ARCCSS/ACCESS-CM2/piClim-control/r1i1p1f1/day/pr/gn/v20200428/\n",
      "/g/data/fs38/publications/CMIP6/RFMIP/CSIRO-ARCCSS/ACCESS-CM2/piClim-ghg/r1i1p1f1/Amon/pr/gn/v20200428/\n",
      "/g/data/fs38/publications/CMIP6/RFMIP/CSIRO-ARCCSS/ACCESS-CM2/piClim-ghg/r1i1p1f1/day/pr/gn/v20200428/\n",
      "/g/data/fs38/publications/CMIP6/ScenarioMIP/CSIRO-ARCCSS/ACCESS-CM2/ssp126/r1i1p1f1/3hr/pr/gn/v20191108/\n",
      "/g/data/fs38/publications/CMIP6/ScenarioMIP/CSIRO-ARCCSS/ACCESS-CM2/ssp126/r1i1p1f1/Amon/pr/gn/v20191108/\n",
      "/g/data/fs38/publications/CMIP6/ScenarioMIP/CSIRO-ARCCSS/ACCESS-CM2/ssp126/r1i1p1f1/Amon/pr/gn/v20210317/\n",
      "/g/data/fs38/publications/CMIP6/ScenarioMIP/CSIRO-ARCCSS/ACCESS-CM2/ssp126/r1i1p1f1/day/pr/gn/v20191108/\n",
      "/g/data/fs38/publications/CMIP6/ScenarioMIP/CSIRO-ARCCSS/ACCESS-CM2/ssp126/r1i1p1f1/day/pr/gn/v20210317/\n",
      "/g/data/fs38/publications/CMIP6/ScenarioMIP/CSIRO-ARCCSS/ACCESS-CM2/ssp126/r2i1p1f1/Amon/pr/gn/v20200303/\n",
      "/g/data/fs38/publications/CMIP6/ScenarioMIP/CSIRO-ARCCSS/ACCESS-CM2/ssp126/r2i1p1f1/day/pr/gn/v20200303/\n",
      "/g/data/fs38/publications/CMIP6/ScenarioMIP/CSIRO-ARCCSS/ACCESS-CM2/ssp126/r3i1p1f1/Amon/pr/gn/v20200428/\n",
      "/g/data/fs38/publications/CMIP6/ScenarioMIP/CSIRO-ARCCSS/ACCESS-CM2/ssp126/r3i1p1f1/day/pr/gn/v20200428/\n",
      "/g/data/fs38/publications/CMIP6/ScenarioMIP/CSIRO-ARCCSS/ACCESS-CM2/ssp126/r4i1p1f1/3hr/pr/gn/v20210712/\n",
      "/g/data/fs38/publications/CMIP6/ScenarioMIP/CSIRO-ARCCSS/ACCESS-CM2/ssp126/r4i1p1f1/Amon/pr/gn/v20210712/\n",
      "/g/data/fs38/publications/CMIP6/ScenarioMIP/CSIRO-ARCCSS/ACCESS-CM2/ssp126/r4i1p1f1/day/pr/gn/v20210712/\n",
      "/g/data/fs38/publications/CMIP6/ScenarioMIP/CSIRO-ARCCSS/ACCESS-CM2/ssp126/r5i1p1f1/3hr/pr/gn/v20210802/\n",
      "/g/data/fs38/publications/CMIP6/ScenarioMIP/CSIRO-ARCCSS/ACCESS-CM2/ssp126/r5i1p1f1/Amon/pr/gn/v20210802/\n",
      "/g/data/fs38/publications/CMIP6/ScenarioMIP/CSIRO-ARCCSS/ACCESS-CM2/ssp126/r5i1p1f1/day/pr/gn/v20210802/\n",
      "/g/data/fs38/publications/CMIP6/ScenarioMIP/CSIRO-ARCCSS/ACCESS-CM2/ssp245/r1i1p1f1/3hr/pr/gn/v20191108/\n",
      "/g/data/fs38/publications/CMIP6/ScenarioMIP/CSIRO-ARCCSS/ACCESS-CM2/ssp245/r1i1p1f1/Amon/pr/gn/v20191108/\n",
      "/g/data/fs38/publications/CMIP6/ScenarioMIP/CSIRO-ARCCSS/ACCESS-CM2/ssp245/r1i1p1f1/day/pr/gn/v20191108/\n",
      "/g/data/fs38/publications/CMIP6/ScenarioMIP/CSIRO-ARCCSS/ACCESS-CM2/ssp245/r2i1p1f1/Amon/pr/gn/v20200303/\n",
      "/g/data/fs38/publications/CMIP6/ScenarioMIP/CSIRO-ARCCSS/ACCESS-CM2/ssp245/r2i1p1f1/day/pr/gn/v20200303/\n",
      "/g/data/fs38/publications/CMIP6/ScenarioMIP/CSIRO-ARCCSS/ACCESS-CM2/ssp245/r3i1p1f1/Amon/pr/gn/v20200428/\n",
      "/g/data/fs38/publications/CMIP6/ScenarioMIP/CSIRO-ARCCSS/ACCESS-CM2/ssp245/r3i1p1f1/day/pr/gn/v20200428/\n",
      "/g/data/fs38/publications/CMIP6/ScenarioMIP/CSIRO-ARCCSS/ACCESS-CM2/ssp245/r4i1p1f1/3hr/pr/gn/v20210712/\n",
      "/g/data/fs38/publications/CMIP6/ScenarioMIP/CSIRO-ARCCSS/ACCESS-CM2/ssp245/r4i1p1f1/Amon/pr/gn/v20210712/\n",
      "/g/data/fs38/publications/CMIP6/ScenarioMIP/CSIRO-ARCCSS/ACCESS-CM2/ssp245/r4i1p1f1/day/pr/gn/v20210712/\n",
      "/g/data/fs38/publications/CMIP6/ScenarioMIP/CSIRO-ARCCSS/ACCESS-CM2/ssp245/r5i1p1f1/3hr/pr/gn/v20210802/\n",
      "/g/data/fs38/publications/CMIP6/ScenarioMIP/CSIRO-ARCCSS/ACCESS-CM2/ssp245/r5i1p1f1/Amon/pr/gn/v20210802/\n",
      "/g/data/fs38/publications/CMIP6/ScenarioMIP/CSIRO-ARCCSS/ACCESS-CM2/ssp245/r5i1p1f1/day/pr/gn/v20210802/\n",
      "/g/data/fs38/publications/CMIP6/ScenarioMIP/CSIRO-ARCCSS/ACCESS-CM2/ssp370/r1i1p1f1/3hr/pr/gn/v20191108/\n",
      "/g/data/fs38/publications/CMIP6/ScenarioMIP/CSIRO-ARCCSS/ACCESS-CM2/ssp370/r1i1p1f1/Amon/pr/gn/v20191108/\n",
      "/g/data/fs38/publications/CMIP6/ScenarioMIP/CSIRO-ARCCSS/ACCESS-CM2/ssp370/r1i1p1f1/day/pr/gn/v20191108/\n",
      "/g/data/fs38/publications/CMIP6/ScenarioMIP/CSIRO-ARCCSS/ACCESS-CM2/ssp370/r2i1p1f1/Amon/pr/gn/v20200303/\n",
      "/g/data/fs38/publications/CMIP6/ScenarioMIP/CSIRO-ARCCSS/ACCESS-CM2/ssp370/r2i1p1f1/day/pr/gn/v20200303/\n",
      "/g/data/fs38/publications/CMIP6/ScenarioMIP/CSIRO-ARCCSS/ACCESS-CM2/ssp370/r3i1p1f1/Amon/pr/gn/v20200428/\n",
      "/g/data/fs38/publications/CMIP6/ScenarioMIP/CSIRO-ARCCSS/ACCESS-CM2/ssp370/r3i1p1f1/day/pr/gn/v20200428/\n",
      "/g/data/fs38/publications/CMIP6/ScenarioMIP/CSIRO-ARCCSS/ACCESS-CM2/ssp370/r4i1p1f1/3hr/pr/gn/v20210712/\n",
      "/g/data/fs38/publications/CMIP6/ScenarioMIP/CSIRO-ARCCSS/ACCESS-CM2/ssp370/r4i1p1f1/Amon/pr/gn/v20210712/\n",
      "/g/data/fs38/publications/CMIP6/ScenarioMIP/CSIRO-ARCCSS/ACCESS-CM2/ssp370/r4i1p1f1/day/pr/gn/v20210712/\n",
      "/g/data/fs38/publications/CMIP6/ScenarioMIP/CSIRO-ARCCSS/ACCESS-CM2/ssp370/r5i1p1f1/3hr/pr/gn/v20210802/\n",
      "/g/data/fs38/publications/CMIP6/ScenarioMIP/CSIRO-ARCCSS/ACCESS-CM2/ssp370/r5i1p1f1/Amon/pr/gn/v20210802/\n",
      "/g/data/fs38/publications/CMIP6/ScenarioMIP/CSIRO-ARCCSS/ACCESS-CM2/ssp370/r5i1p1f1/day/pr/gn/v20210802/\n",
      "/g/data/fs38/publications/CMIP6/ScenarioMIP/CSIRO-ARCCSS/ACCESS-CM2/ssp534-over/r1i1p1f1/Amon/pr/gn/v20210928/\n",
      "/g/data/fs38/publications/CMIP6/ScenarioMIP/CSIRO-ARCCSS/ACCESS-CM2/ssp534-over/r1i1p1f1/day/pr/gn/v20210928/\n",
      "/g/data/fs38/publications/CMIP6/ScenarioMIP/CSIRO-ARCCSS/ACCESS-CM2/ssp585/r1i1p1f1/3hr/pr/gn/v20191108/\n",
      "/g/data/fs38/publications/CMIP6/ScenarioMIP/CSIRO-ARCCSS/ACCESS-CM2/ssp585/r1i1p1f1/Amon/pr/gn/v20191108/\n",
      "/g/data/fs38/publications/CMIP6/ScenarioMIP/CSIRO-ARCCSS/ACCESS-CM2/ssp585/r1i1p1f1/Amon/pr/gn/v20210317/\n",
      "/g/data/fs38/publications/CMIP6/ScenarioMIP/CSIRO-ARCCSS/ACCESS-CM2/ssp585/r1i1p1f1/day/pr/gn/v20191108/\n",
      "/g/data/fs38/publications/CMIP6/ScenarioMIP/CSIRO-ARCCSS/ACCESS-CM2/ssp585/r1i1p1f1/day/pr/gn/v20210317/\n",
      "/g/data/fs38/publications/CMIP6/ScenarioMIP/CSIRO-ARCCSS/ACCESS-CM2/ssp585/r2i1p1f1/Amon/pr/gn/v20200303/\n",
      "/g/data/fs38/publications/CMIP6/ScenarioMIP/CSIRO-ARCCSS/ACCESS-CM2/ssp585/r2i1p1f1/day/pr/gn/v20200303/\n",
      "/g/data/fs38/publications/CMIP6/ScenarioMIP/CSIRO-ARCCSS/ACCESS-CM2/ssp585/r3i1p1f1/Amon/pr/gn/v20200428/\n",
      "/g/data/fs38/publications/CMIP6/ScenarioMIP/CSIRO-ARCCSS/ACCESS-CM2/ssp585/r3i1p1f1/day/pr/gn/v20200428/\n",
      "/g/data/fs38/publications/CMIP6/ScenarioMIP/CSIRO-ARCCSS/ACCESS-CM2/ssp585/r4i1p1f1/3hr/pr/gn/v20210712/\n",
      "/g/data/fs38/publications/CMIP6/ScenarioMIP/CSIRO-ARCCSS/ACCESS-CM2/ssp585/r4i1p1f1/Amon/pr/gn/v20210712/\n",
      "/g/data/fs38/publications/CMIP6/ScenarioMIP/CSIRO-ARCCSS/ACCESS-CM2/ssp585/r4i1p1f1/day/pr/gn/v20210712/\n",
      "/g/data/fs38/publications/CMIP6/ScenarioMIP/CSIRO-ARCCSS/ACCESS-CM2/ssp585/r5i1p1f1/3hr/pr/gn/v20210802/\n",
      "/g/data/fs38/publications/CMIP6/ScenarioMIP/CSIRO-ARCCSS/ACCESS-CM2/ssp585/r5i1p1f1/Amon/pr/gn/v20210802/\n",
      "/g/data/fs38/publications/CMIP6/ScenarioMIP/CSIRO-ARCCSS/ACCESS-CM2/ssp585/r5i1p1f1/day/pr/gn/v20210802/\n",
      "\n",
      "Available on ESGF but not locally:\n",
      "CMIP6.CMIP.CSIRO-ARCCSS.ACCESS-CM2.historical.r10i1p1f1.Amon.pr.gn.v20220819\n",
      "CMIP6.CMIP.CSIRO-ARCCSS.ACCESS-CM2.historical.r10i1p1f1.day.pr.gn.v20220819\n",
      "CMIP6.CMIP.CSIRO-ARCCSS.ACCESS-CM2.historical.r6i1p1f1.Amon.pr.gn.v20220819\n",
      "CMIP6.CMIP.CSIRO-ARCCSS.ACCESS-CM2.historical.r6i1p1f1.day.pr.gn.v20220819\n",
      "CMIP6.CMIP.CSIRO-ARCCSS.ACCESS-CM2.historical.r7i1p1f1.Amon.pr.gn.v20220819\n",
      "CMIP6.CMIP.CSIRO-ARCCSS.ACCESS-CM2.historical.r7i1p1f1.day.pr.gn.v20220819\n",
      "CMIP6.CMIP.CSIRO-ARCCSS.ACCESS-CM2.historical.r8i1p1f1.Amon.pr.gn.v20220819\n",
      "CMIP6.CMIP.CSIRO-ARCCSS.ACCESS-CM2.historical.r8i1p1f1.day.pr.gn.v20220819\n",
      "CMIP6.CMIP.CSIRO-ARCCSS.ACCESS-CM2.historical.r9i1p1f1.Amon.pr.gn.v20220819\n",
      "CMIP6.CMIP.CSIRO-ARCCSS.ACCESS-CM2.historical.r9i1p1f1.day.pr.gn.v20220819\n",
      "CMIP6.ScenarioMIP.CSIRO-ARCCSS.ACCESS-CM2.ssp585.r10i1p1f1.Amon.pr.gn.v20230430\n",
      "CMIP6.ScenarioMIP.CSIRO-ARCCSS.ACCESS-CM2.ssp585.r10i1p1f1.day.pr.gn.v20230430\n",
      "CMIP6.ScenarioMIP.CSIRO-ARCCSS.ACCESS-CM2.ssp585.r6i1p1f1.Amon.pr.gn.v20230430\n",
      "CMIP6.ScenarioMIP.CSIRO-ARCCSS.ACCESS-CM2.ssp585.r6i1p1f1.day.pr.gn.v20230430\n",
      "CMIP6.ScenarioMIP.CSIRO-ARCCSS.ACCESS-CM2.ssp585.r7i1p1f1.Amon.pr.gn.v20230430\n",
      "CMIP6.ScenarioMIP.CSIRO-ARCCSS.ACCESS-CM2.ssp585.r7i1p1f1.day.pr.gn.v20230430\n",
      "CMIP6.ScenarioMIP.CSIRO-ARCCSS.ACCESS-CM2.ssp585.r8i1p1f1.Amon.pr.gn.v20230430\n",
      "CMIP6.ScenarioMIP.CSIRO-ARCCSS.ACCESS-CM2.ssp585.r8i1p1f1.day.pr.gn.v20230430\n",
      "CMIP6.ScenarioMIP.CSIRO-ARCCSS.ACCESS-CM2.ssp585.r9i1p1f1.Amon.pr.gn.v20230531\n",
      "CMIP6.ScenarioMIP.CSIRO-ARCCSS.ACCESS-CM2.ssp585.r9i1p1f1.day.pr.gn.v20230531\n"
     ]
    }
   ],
   "source": [
    "! clef cmip6 --model ACCESS-CM2 -v pr --latest"
   ]
  },
  {
   "cell_type": "code",
   "execution_count": 14,
   "id": "27f1c619-dc2c-4b49-88a4-b1bd35b8aa25",
   "metadata": {
    "tags": []
   },
   "outputs": [
    {
     "name": "stdout",
     "output_type": "stream",
     "text": [
      "ERROR: No matches found on ESGF, check at https://esgf.nci.org.au/search/esgf-nci?query=&type=File&distrib=True&replica=False&latest=True&project=CMIP6&source_id=CanESM5\n"
     ]
    }
   ],
   "source": [
    "! clef cmip6 --model \"CanESM5\""
   ]
  },
  {
   "cell_type": "code",
   "execution_count": 11,
   "id": "c4db068d-a33f-4078-8ab7-99c2d4c7c30a",
   "metadata": {
    "tags": []
   },
   "outputs": [
    {
     "name": "stdout",
     "output_type": "stream",
     "text": [
      "ERROR: No matches found on ESGF, check at https://esgf.nci.org.au/search/esgf-nci?query=&type=File&distrib=True&replica=False&latest=True&project=CMIP6&activity_id=CMIP&experiment_id=1pctCO2&source_id=CanESM5\n"
     ]
    }
   ],
   "source": [
    "! clef cmip6 --activity CMIP \\\n",
    "            --model CanESM5 \\\n",
    "            --experiment 1pctCO2 \\\n",
    "            # --source_type AOGCM \\\n",
    "            # --table Amon \\\n",
    "            --variable tas"
   ]
  },
  {
   "cell_type": "code",
   "execution_count": null,
   "id": "3b375951-1ba2-4eb1-a7ff-610bad5d1667",
   "metadata": {},
   "outputs": [],
   "source": [
    "! clef cmip6 --activity CMIP \\\n",
    "              --experiment historical \\\n",
    "              --source_type AOGCM \\\n",
    "              --table Amon \\\n",
    "              --grid gr \\\n",
    "              --resolution \"250 km\" \\\n",
    "              --variable ua \\\n",
    "              --variable tas"
   ]
  },
  {
   "cell_type": "code",
   "execution_count": null,
   "id": "77c7aca4-295c-45a6-aeb1-f6c0af52bc59",
   "metadata": {},
   "outputs": [],
   "source": [
    "! clef cmip6 --help"
   ]
  }
 ],
 "metadata": {
  "kernelspec": {
   "display_name": "Python 3 (ipykernel)",
   "language": "python",
   "name": "python3"
  },
  "language_info": {
   "codemirror_mode": {
    "name": "ipython",
    "version": 3
   },
   "file_extension": ".py",
   "mimetype": "text/x-python",
   "name": "python",
   "nbconvert_exporter": "python",
   "pygments_lexer": "ipython3",
   "version": "3.9.15"
  }
 },
 "nbformat": 4,
 "nbformat_minor": 5
}
