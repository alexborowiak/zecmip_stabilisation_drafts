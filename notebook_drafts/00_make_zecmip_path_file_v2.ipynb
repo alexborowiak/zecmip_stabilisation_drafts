{
 "cells": [
  {
   "cell_type": "markdown",
   "id": "970ba615",
   "metadata": {},
   "source": [
    "# Getting ZECMIP File Paths\n",
    "\n",
    "- Getting all the file paths for zecmip takes a while to laod with glob. Savign all these files in a csv files to improve speed."
   ]
  },
  {
   "cell_type": "code",
   "execution_count": 1,
   "id": "4a9ea420",
   "metadata": {
    "tags": []
   },
   "outputs": [],
   "source": [
    "from glob import glob\n",
    "import pandas as pd\n",
    "import sys, os\n",
    "import numpy as np\n",
    "sys.path.append(os.path.join(os.getcwd(), 'Documents/PhD'))\n",
    "import constants\n",
    "import json\n",
    "from pprint import pprint\n",
    "from typing import List, Dict"
   ]
  },
  {
   "cell_type": "code",
   "execution_count": 2,
   "id": "cfe0d021-261b-491f-9efa-2b795020adec",
   "metadata": {
    "tags": []
   },
   "outputs": [
    {
     "data": {
      "text/plain": [
       "('/g/data/oi10/replicas/CMIP6/CMIP', '/g/data/oi10/replicas/CMIP6/C4MIP')"
      ]
     },
     "execution_count": 2,
     "metadata": {},
     "output_type": "execute_result"
    }
   ],
   "source": [
    "constants.DECK_DIR, constants.ZECMIP_DIR"
   ]
  },
  {
   "cell_type": "code",
   "execution_count": 3,
   "id": "6b042fa8",
   "metadata": {
    "tags": []
   },
   "outputs": [
    {
     "name": "stdout",
     "output_type": "stream",
     "text": [
      "CPU times: user 517 ms, sys: 2.93 s, total: 3.45 s\n",
      "Wall time: 10.8 s\n"
     ]
    }
   ],
   "source": [
    "%%time\n",
    "# Sample file name: tas_Amon_IPSL-CM5A2-INCA_piControl_r1i1p1f1_gr_185001-209912.nc\n",
    "fpaths_1000PgC = glob(constants.ZECMIP_DIR + '/**/*tas_*Amon*brch-1000PgC*.nc', recursive=True)"
   ]
  },
  {
   "cell_type": "code",
   "execution_count": 4,
   "id": "d3d2e719-dd64-4260-9a22-d2ae41f52cb7",
   "metadata": {
    "tags": []
   },
   "outputs": [
    {
     "data": {
      "text/plain": [
       "['/g/data/oi10/replicas/CMIP6/C4MIP/MPI-M/MPI-ESM1-2-LR/esm-1pct-brch-1000PgC/r1i1p1f1/Amon/tas/gn/v20190815/tas_Amon_MPI-ESM1-2-LR_esm-1pct-brch-1000PgC_r1i1p1f1_gn_207501-209412.nc',\n",
       " '/g/data/oi10/replicas/CMIP6/C4MIP/MPI-M/MPI-ESM1-2-LR/esm-1pct-brch-1000PgC/r1i1p1f1/Amon/tas/gn/v20190815/tas_Amon_MPI-ESM1-2-LR_esm-1pct-brch-1000PgC_r1i1p1f1_gn_205501-207412.nc',\n",
       " '/g/data/oi10/replicas/CMIP6/C4MIP/MPI-M/MPI-ESM1-2-LR/esm-1pct-brch-1000PgC/r1i1p1f1/Amon/tas/gn/v20190815/tas_Amon_MPI-ESM1-2-LR_esm-1pct-brch-1000PgC_r1i1p1f1_gn_199501-201412.nc']"
      ]
     },
     "execution_count": 4,
     "metadata": {},
     "output_type": "execute_result"
    }
   ],
   "source": [
    "fpaths_1000PgC[:3]"
   ]
  },
  {
   "cell_type": "code",
   "execution_count": 5,
   "id": "fe5eda35-2128-4dba-a05a-4d859cb233bc",
   "metadata": {
    "tags": []
   },
   "outputs": [],
   "source": [
    "# Needs _piControl or else will also get esm-piControl\n",
    "fpaths_picontrol = glob(constants.DECK_DIR + '/**/*tas_*Amon*_piControl*.nc', recursive=True)"
   ]
  },
  {
   "cell_type": "code",
   "execution_count": 6,
   "id": "52d0025b-7ac0-4ffc-b484-571e64fedf85",
   "metadata": {
    "tags": []
   },
   "outputs": [],
   "source": [
    "fpaths_esm_picontrol = glob('/g/data/oi10/replicas/CMIP6/CMIP' + '/**/*tas_*Amon*esm-piControl*.nc', recursive=True)"
   ]
  },
  {
   "cell_type": "code",
   "execution_count": 7,
   "id": "d7238602-e673-4407-b155-4ff5504f8d57",
   "metadata": {
    "tags": []
   },
   "outputs": [
    {
     "data": {
      "text/plain": [
       "['/g/data/oi10/replicas/CMIP6/CMIP/INM/INM-CM5-0/piControl/r1i1p1f1/Amon/tas/gr1/v20190619/tas_Amon_INM-CM5-0_piControl_r1i1p1f1_gr1_314801-319612.nc',\n",
       " '/g/data/oi10/replicas/CMIP6/CMIP/INM/INM-CM5-0/piControl/r1i1p1f1/Amon/tas/gr1/v20190619/tas_Amon_INM-CM5-0_piControl_r1i1p1f1_gr1_246901-249512.nc',\n",
       " '/g/data/oi10/replicas/CMIP6/CMIP/INM/INM-CM5-0/piControl/r1i1p1f1/Amon/tas/gr1/v20190619/tas_Amon_INM-CM5-0_piControl_r1i1p1f1_gr1_236901-246812.nc']"
      ]
     },
     "execution_count": 7,
     "metadata": {},
     "output_type": "execute_result"
    }
   ],
   "source": [
    "fpaths_picontrol[:3]"
   ]
  },
  {
   "cell_type": "code",
   "execution_count": 8,
   "id": "13f7f5fb-493c-4cb3-9bd5-d4dfd69d4eef",
   "metadata": {
    "tags": []
   },
   "outputs": [],
   "source": [
    "fpaths_1pct = glob(constants.DECK_DIR + '/**/*tas_*Amon*1pctCO2*.nc', recursive=True)"
   ]
  },
  {
   "cell_type": "code",
   "execution_count": 9,
   "id": "5f80c961-9efc-4f9f-a283-98ed8bea8041",
   "metadata": {
    "tags": []
   },
   "outputs": [
    {
     "data": {
      "text/plain": [
       "['/g/data/oi10/replicas/CMIP6/CMIP/INM/INM-CM5-0/1pctCO2/r1i1p1f1/Amon/tas/gr1/v20200226/tas_Amon_INM-CM5-0_1pctCO2_r1i1p1f1_gr1_188401-196212.nc',\n",
       " '/g/data/oi10/replicas/CMIP6/CMIP/INM/INM-CM5-0/1pctCO2/r1i1p1f1/Amon/tas/gr1/v20200226/tas_Amon_INM-CM5-0_1pctCO2_r1i1p1f1_gr1_196301-199912.nc',\n",
       " '/g/data/oi10/replicas/CMIP6/CMIP/INM/INM-CM5-0/1pctCO2/r1i1p1f1/Amon/tas/gr1/v20200226/tas_Amon_INM-CM5-0_1pctCO2_r1i1p1f1_gr1_185001-188312.nc']"
      ]
     },
     "execution_count": 9,
     "metadata": {},
     "output_type": "execute_result"
    }
   ],
   "source": [
    "fpaths_1pct[:3]"
   ]
  },
  {
   "cell_type": "code",
   "execution_count": 10,
   "id": "a80773af-86e4-494d-abd0-3a81f48aa39f",
   "metadata": {
    "tags": []
   },
   "outputs": [],
   "source": [
    "base_paths = {\n",
    "    'picontrol': np.sort(np.unique(list(map(os.path.dirname, fpaths_picontrol)))),\n",
    "    'esm-piControl':np.sort(np.unique(list(map(os.path.dirname, fpaths_esm_picontrol)))),\n",
    "    '1000pgc':np.sort(np.unique(list(map(os.path.dirname, fpaths_1000PgC)))),\n",
    "    '1pct':np.sort(np.unique(list(map(os.path.dirname, fpaths_1pct))))}"
   ]
  },
  {
   "cell_type": "code",
   "execution_count": 11,
   "id": "cc92871c-173c-4b61-8e44-5ddcea6296f0",
   "metadata": {
    "tags": []
   },
   "outputs": [
    {
     "data": {
      "text/plain": [
       "array(['/g/data/oi10/replicas/CMIP6/C4MIP/CCCma/CanESM5/esm-1pct-brch-1000PgC/r1i1p2f1/Amon/tas/gn/v20190429',\n",
       "       '/g/data/oi10/replicas/CMIP6/C4MIP/CCCma/CanESM5/esm-1pct-brch-1000PgC/r2i1p2f1/Amon/tas/gn/v20190429',\n",
       "       '/g/data/oi10/replicas/CMIP6/C4MIP/CCCma/CanESM5/esm-1pct-brch-1000PgC/r3i1p2f1/Amon/tas/gn/v20190429',\n",
       "       '/g/data/oi10/replicas/CMIP6/C4MIP/CCCma/CanESM5/esm-1pct-brch-1000PgC/r4i1p2f1/Amon/tas/gn/v20190429',\n",
       "       '/g/data/oi10/replicas/CMIP6/C4MIP/CCCma/CanESM5/esm-1pct-brch-1000PgC/r5i1p2f1/Amon/tas/gn/v20190429',\n",
       "       '/g/data/oi10/replicas/CMIP6/C4MIP/MIROC/MIROC-ES2L/esm-1pct-brch-1000PgC/r1i1p1f2/Amon/tas/gn/v20200622',\n",
       "       '/g/data/oi10/replicas/CMIP6/C4MIP/MOHC/UKESM1-0-LL/esm-1pct-brch-1000PgC/r1i1p1f2/Amon/tas/gn/v20200210',\n",
       "       '/g/data/oi10/replicas/CMIP6/C4MIP/MOHC/UKESM1-0-LL/esm-1pct-brch-1000PgC/r2i1p1f2/Amon/tas/gn/v20200106',\n",
       "       '/g/data/oi10/replicas/CMIP6/C4MIP/MOHC/UKESM1-0-LL/esm-1pct-brch-1000PgC/r3i1p1f2/Amon/tas/gn/v20200929',\n",
       "       '/g/data/oi10/replicas/CMIP6/C4MIP/MOHC/UKESM1-0-LL/esm-1pct-brch-1000PgC/r4i1p1f2/Amon/tas/gn/v20200708'],\n",
       "      dtype='<U111')"
      ]
     },
     "execution_count": 11,
     "metadata": {},
     "output_type": "execute_result"
    }
   ],
   "source": [
    "base_paths['1000pgc'][:10]"
   ]
  },
  {
   "cell_type": "code",
   "execution_count": 12,
   "id": "1aa6b08f-51f2-448b-8edf-009386d92766",
   "metadata": {
    "tags": []
   },
   "outputs": [],
   "source": [
    "types_to_match = ['picontrol', '1pct', 'esm-piControl']"
   ]
  },
  {
   "cell_type": "code",
   "execution_count": 13,
   "id": "46928580-0903-4497-abf7-8f1cfa6c686c",
   "metadata": {
    "tags": []
   },
   "outputs": [],
   "source": [
    "path_obj = {}\n",
    "for ubp in base_paths['1000pgc']:\n",
    "    ubp_split = ubp.split('/')\n",
    "    model, ensemble_member, freq = ubp_split[8], ubp_split[10], ubp_split[11]    \n",
    "    dobj = {'1000pgc': ubp}  \n",
    "    for mtype in types_to_match:\n",
    "        path_list = [\n",
    "            bmp for bmp in base_paths[mtype]\n",
    "            if model == bmp.split('/')[8] and ensemble_member in bmp and freq in bmp]\n",
    "        dobj[mtype] = path_list\n",
    "    \n",
    "    path_obj[f'{model}_{ensemble_member}_{freq}'] = dobj"
   ]
  },
  {
   "cell_type": "code",
   "execution_count": 14,
   "id": "5731000a-6a71-4e44-916a-09af109b5b99",
   "metadata": {
    "tags": []
   },
   "outputs": [],
   "source": [
    "# If there is no picontrol then there is no point.\n",
    "path_obj_2 = {}\n",
    "for run_params, dobj in path_obj.items():\n",
    "    if len(dobj['picontrol']) > 0: path_obj_2[run_params] = dobj"
   ]
  },
  {
   "cell_type": "code",
   "execution_count": 15,
   "id": "c6970d4e-e150-4679-b3d5-b6cecdc7a9a7",
   "metadata": {
    "tags": []
   },
   "outputs": [],
   "source": [
    "# Can get rid of the'day' variant if there is also 'Amon'\n",
    "path_obj_3 = {}\n",
    "for run_params, dobj in path_obj_2.items():\n",
    "    if 'Amon' in run_params or not (run_params.replace('day', 'Amon') in list(path_obj_2)):\n",
    "        path_obj_3[run_params] = dobj            "
   ]
  },
  {
   "cell_type": "code",
   "execution_count": 16,
   "id": "4729e8e9-8b57-43bf-80bf-5b6593543237",
   "metadata": {
    "tags": []
   },
   "outputs": [
    {
     "name": "stdout",
     "output_type": "stream",
     "text": [
      "{'CESM2_r1i1p1f1_Amon': {'1000pgc': '/g/data/oi10/replicas/CMIP6/C4MIP/NCAR/CESM2/esm-1pct-brch-1000PgC/r1i1p1f1/Amon/tas/gn/v20191119',\n",
      "                         '1pct': ['/g/data/oi10/replicas/CMIP6/CMIP/NCAR/CESM2/1pctCO2/r1i1p1f1/Amon/tas/gn/v20190425'],\n",
      "                         'esm-piControl': ['/g/data/oi10/replicas/CMIP6/CMIP/NCAR/CESM2/esm-piControl/r1i1p1f1/Amon/tas/gn/v20190723'],\n",
      "                         'picontrol': ['/g/data/oi10/replicas/CMIP6/CMIP/NCAR/CESM2/piControl/r1i1p1f1/Amon/tas/gn/v20190320']},\n",
      " 'CanESM5_r1i1p2f1_Amon': {'1000pgc': '/g/data/oi10/replicas/CMIP6/C4MIP/CCCma/CanESM5/esm-1pct-brch-1000PgC/r1i1p2f1/Amon/tas/gn/v20190429',\n",
      "                           '1pct': ['/g/data/oi10/replicas/CMIP6/CMIP/CCCma/CanESM5/1pctCO2/r1i1p2f1/Amon/tas/gn/v20190429'],\n",
      "                           'esm-piControl': [],\n",
      "                           'picontrol': ['/g/data/oi10/replicas/CMIP6/CMIP/CCCma/CanESM5/piControl/r1i1p2f1/Amon/tas/gn/v20190429']},\n",
      " 'GFDL-ESM4_r1i1p1f1_Amon': {'1000pgc': '/g/data/oi10/replicas/CMIP6/C4MIP/NOAA-GFDL/GFDL-ESM4/esm-1pct-brch-1000PgC/r1i1p1f1/Amon/tas/gr1/v20180701',\n",
      "                             '1pct': ['/g/data/oi10/replicas/CMIP6/CMIP/NOAA-GFDL/GFDL-ESM4/1pctCO2/r1i1p1f1/Amon/tas/gr1/v20180701'],\n",
      "                             'esm-piControl': ['/g/data/oi10/replicas/CMIP6/CMIP/NOAA-GFDL/GFDL-ESM4/esm-piControl/r1i1p1f1/Amon/tas/gr1/v20180701'],\n",
      "                             'picontrol': ['/g/data/oi10/replicas/CMIP6/CMIP/NOAA-GFDL/GFDL-ESM4/piControl/r1i1p1f1/Amon/tas/gr1/v20180701']},\n",
      " 'GISS-E2-1-G-CC_r1i1p1f1_Amon': {'1000pgc': '/g/data/oi10/replicas/CMIP6/C4MIP/NASA-GISS/GISS-E2-1-G-CC/esm-1pct-brch-1000PgC/r1i1p1f1/Amon/tas/gn/v20191202',\n",
      "                                  '1pct': [],\n",
      "                                  'esm-piControl': [],\n",
      "                                  'picontrol': ['/g/data/oi10/replicas/CMIP6/CMIP/NASA-GISS/GISS-E2-1-G-CC/piControl/r1i1p1f1/Amon/tas/gn/v20190815']},\n",
      " 'MIROC-ES2L_r1i1p1f2_Amon': {'1000pgc': '/g/data/oi10/replicas/CMIP6/C4MIP/MIROC/MIROC-ES2L/esm-1pct-brch-1000PgC/r1i1p1f2/Amon/tas/gn/v20200622',\n",
      "                              '1pct': ['/g/data/oi10/replicas/CMIP6/CMIP/MIROC/MIROC-ES2L/1pctCO2/r1i1p1f2/Amon/tas/gn/v20190823'],\n",
      "                              'esm-piControl': ['/g/data/oi10/replicas/CMIP6/CMIP/MIROC/MIROC-ES2L/esm-piControl/r1i1p1f2/Amon/tas/gn/v20200428'],\n",
      "                              'picontrol': ['/g/data/oi10/replicas/CMIP6/CMIP/MIROC/MIROC-ES2L/piControl/r1i1p1f2/Amon/tas/gn/v20190823']},\n",
      " 'MPI-ESM1-2-LR_r1i1p1f1_Amon': {'1000pgc': '/g/data/oi10/replicas/CMIP6/C4MIP/MPI-M/MPI-ESM1-2-LR/esm-1pct-brch-1000PgC/r1i1p1f1/Amon/tas/gn/v20190815',\n",
      "                                 '1pct': ['/g/data/oi10/replicas/CMIP6/CMIP/MPI-M/MPI-ESM1-2-LR/1pctCO2/r1i1p1f1/Amon/tas/gn/v20190710'],\n",
      "                                 'esm-piControl': ['/g/data/oi10/replicas/CMIP6/CMIP/MPI-M/MPI-ESM1-2-LR/esm-piControl/r1i1p1f1/Amon/tas/gn/v20190815'],\n",
      "                                 'picontrol': ['/g/data/oi10/replicas/CMIP6/CMIP/MPI-M/MPI-ESM1-2-LR/piControl/r1i1p1f1/Amon/tas/gn/v20190710']},\n",
      " 'NorESM2-LM_r1i1p1f1_Amon': {'1000pgc': '/g/data/oi10/replicas/CMIP6/C4MIP/NCC/NorESM2-LM/esm-1pct-brch-1000PgC/r1i1p1f1/Amon/tas/gn/v20191108',\n",
      "                              '1pct': ['/g/data/oi10/replicas/CMIP6/CMIP/NCC/NorESM2-LM/1pctCO2/r1i1p1f1/Amon/tas/gn/v20190815'],\n",
      "                              'esm-piControl': ['/g/data/oi10/replicas/CMIP6/CMIP/NCC/NorESM2-LM/esm-piControl/r1i1p1f1/Amon/tas/gn/v20190920'],\n",
      "                              'picontrol': ['/g/data/oi10/replicas/CMIP6/CMIP/NCC/NorESM2-LM/piControl/r1i1p1f1/Amon/tas/gn/v20210118']},\n",
      " 'UKESM1-0-LL_r1i1p1f2_Amon': {'1000pgc': '/g/data/oi10/replicas/CMIP6/C4MIP/MOHC/UKESM1-0-LL/esm-1pct-brch-1000PgC/r1i1p1f2/Amon/tas/gn/v20200210',\n",
      "                               '1pct': ['/g/data/oi10/replicas/CMIP6/CMIP/MOHC/UKESM1-0-LL/1pctCO2/r1i1p1f2/Amon/tas/gn/v20190406'],\n",
      "                               'esm-piControl': ['/g/data/oi10/replicas/CMIP6/CMIP/MOHC/UKESM1-0-LL/esm-piControl/r1i1p1f2/Amon/tas/gn/v20190916'],\n",
      "                               'picontrol': ['/g/data/oi10/replicas/CMIP6/CMIP/MOHC/UKESM1-0-LL/piControl/r1i1p1f2/Amon/tas/gn/v20190410',\n",
      "                                             '/g/data/oi10/replicas/CMIP6/CMIP/MOHC/UKESM1-0-LL/piControl/r1i1p1f2/Amon/tas/gn/v20200630',\n",
      "                                             '/g/data/oi10/replicas/CMIP6/CMIP/MOHC/UKESM1-0-LL/piControl/r1i1p1f2/Amon/tas/gn/v20200828']}}\n"
     ]
    }
   ],
   "source": [
    "pprint(path_obj_3)"
   ]
  },
  {
   "cell_type": "code",
   "execution_count": 17,
   "id": "3e4611d8-5ad4-471d-9213-400f5f2e1bf0",
   "metadata": {
    "tags": []
   },
   "outputs": [],
   "source": [
    "# TODO: Not sure why this doesn't work, but can just hard code in for now\n",
    "path_obj_3['GISS-E2-1-G-CC_r1i1p1f1_Amon']['1pct'] = '/g/data/oi10/replicas/CMIP6/CMIP/NASA-GISS/GISS-E2-1-G/1pctCO2/r1i1p1f1/Amon/tas/gn/v20180905'"
   ]
  },
  {
   "cell_type": "code",
   "execution_count": 18,
   "id": "5e64f19d-6bf4-4006-b8a0-f7a245efea90",
   "metadata": {
    "tags": []
   },
   "outputs": [],
   "source": [
    "import copy"
   ]
  },
  {
   "cell_type": "code",
   "execution_count": 19,
   "id": "3be014f6-5139-42cf-9c60-6d888ccc6181",
   "metadata": {
    "tags": []
   },
   "outputs": [],
   "source": [
    "# Trurn lists into str and remove old versions.\n",
    "path_obj_4 = {}\n",
    "for run_params, dobj_base in path_obj_3.items():\n",
    "    dobj = copy.deepcopy(dobj_base) # Don't wont to override\n",
    "    for exp_type, vals in dobj.items():\n",
    "        if isinstance(vals, list):\n",
    "            # print(vals)\n",
    "            if len(vals) > 1: dobj[exp_type] = np.sort(vals)[-1]\n",
    "            if len(vals) == 0: pass\n",
    "            else: dobj[exp_type] = vals[0]\n",
    "    path_obj_4[run_params] = dobj"
   ]
  },
  {
   "cell_type": "code",
   "execution_count": 20,
   "id": "edbf7076-dfcc-4e07-bfa0-747182934d22",
   "metadata": {
    "tags": []
   },
   "outputs": [],
   "source": [
    "# ACCESS us stored in its own directroy - manually add\n",
    "path_obj_4['ACCESS-ESM1-5'] = {\n",
    "    '1000pgc':'/g/data/fs38/publications/CMIP6/C4MIP/CSIRO/ACCESS-ESM1-5/esm-1pct-brch-1000PgC/r1i1p1f1/Amon/tas/gn/v20191206',\n",
    "    '1pct':'/g/data/fs38/publications/CMIP6/CMIP/CSIRO/ACCESS-ESM1-5/1pctCO2/r1i1p1f1/Amon/tas/gn/v20191115',\n",
    "    'picontrol': '/g/data/fs38/publications/CMIP6/CMIP/CSIRO/ACCESS-ESM1-5/piControl/r1i1p1f1/Amon/tas/gn/v20210316',\n",
    "    'esm-piControl': '/g/data/fs38/publications/CMIP6/CMIP/CSIRO/ACCESS-ESM1-5/esm-piControl/r1i1p1f1/Amon/tas/gn/v20191115'\n",
    "}"
   ]
  },
  {
   "cell_type": "code",
   "execution_count": 27,
   "id": "8af7e251-60f6-4d21-97f3-f432666370fb",
   "metadata": {
    "tags": []
   },
   "outputs": [],
   "source": [
    "path_obj_4['GISS-E2-1-G-CC_r1i1p1f1_Amon']['esm-piControl'] = '/g/data/w40/ab2313/PhD/zecmip/original/esm_picontrol/GISS'"
   ]
  },
  {
   "cell_type": "code",
   "execution_count": 28,
   "id": "6e692a50-2ebf-48a7-b5b1-d844bfab647f",
   "metadata": {
    "tags": []
   },
   "outputs": [],
   "source": [
    "path_obj_4['CanESM5_r1i1p2f1_Amon']['esm-piControl'] = '/g/data/w40/ab2313/PhD/zecmip/original/esm_picontrol/CanESM5'"
   ]
  },
  {
   "cell_type": "code",
   "execution_count": 29,
   "id": "6bb41655-2783-4158-b61b-2f8f23124c5d",
   "metadata": {
    "tags": []
   },
   "outputs": [
    {
     "name": "stdout",
     "output_type": "stream",
     "text": [
      "{'ACCESS-ESM1-5': {'1000pgc': '/g/data/fs38/publications/CMIP6/C4MIP/CSIRO/ACCESS-ESM1-5/esm-1pct-brch-1000PgC/r1i1p1f1/Amon/tas/gn/v20191206',\n",
      "                   '1pct': '/g/data/fs38/publications/CMIP6/CMIP/CSIRO/ACCESS-ESM1-5/1pctCO2/r1i1p1f1/Amon/tas/gn/v20191115',\n",
      "                   'esm-piControl': '/g/data/fs38/publications/CMIP6/CMIP/CSIRO/ACCESS-ESM1-5/esm-piControl/r1i1p1f1/Amon/tas/gn/v20191115',\n",
      "                   'picontrol': '/g/data/fs38/publications/CMIP6/CMIP/CSIRO/ACCESS-ESM1-5/piControl/r1i1p1f1/Amon/tas/gn/v20210316'},\n",
      " 'CESM2_r1i1p1f1_Amon': {'1000pgc': '/g/data/oi10/replicas/CMIP6/C4MIP/NCAR/CESM2/esm-1pct-brch-1000PgC/r1i1p1f1/Amon/tas/gn/v20191119',\n",
      "                         '1pct': '/g/data/oi10/replicas/CMIP6/CMIP/NCAR/CESM2/1pctCO2/r1i1p1f1/Amon/tas/gn/v20190425',\n",
      "                         'esm-piControl': '/g/data/oi10/replicas/CMIP6/CMIP/NCAR/CESM2/esm-piControl/r1i1p1f1/Amon/tas/gn/v20190723',\n",
      "                         'picontrol': '/g/data/oi10/replicas/CMIP6/CMIP/NCAR/CESM2/piControl/r1i1p1f1/Amon/tas/gn/v20190320'},\n",
      " 'CanESM5_r1i1p2f1_Amon': {'1000pgc': '/g/data/oi10/replicas/CMIP6/C4MIP/CCCma/CanESM5/esm-1pct-brch-1000PgC/r1i1p2f1/Amon/tas/gn/v20190429',\n",
      "                           '1pct': '/g/data/oi10/replicas/CMIP6/CMIP/CCCma/CanESM5/1pctCO2/r1i1p2f1/Amon/tas/gn/v20190429',\n",
      "                           'esm-piControl': '/g/data/w40/ab2313/PhD/zecmip/original/esm_picontrol/CanESM5',\n",
      "                           'picontrol': '/g/data/oi10/replicas/CMIP6/CMIP/CCCma/CanESM5/piControl/r1i1p2f1/Amon/tas/gn/v20190429'},\n",
      " 'GFDL-ESM4_r1i1p1f1_Amon': {'1000pgc': '/g/data/oi10/replicas/CMIP6/C4MIP/NOAA-GFDL/GFDL-ESM4/esm-1pct-brch-1000PgC/r1i1p1f1/Amon/tas/gr1/v20180701',\n",
      "                             '1pct': '/g/data/oi10/replicas/CMIP6/CMIP/NOAA-GFDL/GFDL-ESM4/1pctCO2/r1i1p1f1/Amon/tas/gr1/v20180701',\n",
      "                             'esm-piControl': '/g/data/oi10/replicas/CMIP6/CMIP/NOAA-GFDL/GFDL-ESM4/esm-piControl/r1i1p1f1/Amon/tas/gr1/v20180701',\n",
      "                             'picontrol': '/g/data/oi10/replicas/CMIP6/CMIP/NOAA-GFDL/GFDL-ESM4/piControl/r1i1p1f1/Amon/tas/gr1/v20180701'},\n",
      " 'GISS-E2-1-G-CC_r1i1p1f1_Amon': {'1000pgc': '/g/data/oi10/replicas/CMIP6/C4MIP/NASA-GISS/GISS-E2-1-G-CC/esm-1pct-brch-1000PgC/r1i1p1f1/Amon/tas/gn/v20191202',\n",
      "                                  '1pct': '/g/data/oi10/replicas/CMIP6/CMIP/NASA-GISS/GISS-E2-1-G/1pctCO2/r1i1p1f1/Amon/tas/gn/v20180905',\n",
      "                                  'esm-piControl': '/g/data/w40/ab2313/PhD/zecmip/original/esm_picontrol/GISS',\n",
      "                                  'picontrol': '/g/data/oi10/replicas/CMIP6/CMIP/NASA-GISS/GISS-E2-1-G-CC/piControl/r1i1p1f1/Amon/tas/gn/v20190815'},\n",
      " 'MIROC-ES2L_r1i1p1f2_Amon': {'1000pgc': '/g/data/oi10/replicas/CMIP6/C4MIP/MIROC/MIROC-ES2L/esm-1pct-brch-1000PgC/r1i1p1f2/Amon/tas/gn/v20200622',\n",
      "                              '1pct': '/g/data/oi10/replicas/CMIP6/CMIP/MIROC/MIROC-ES2L/1pctCO2/r1i1p1f2/Amon/tas/gn/v20190823',\n",
      "                              'esm-piControl': '/g/data/oi10/replicas/CMIP6/CMIP/MIROC/MIROC-ES2L/esm-piControl/r1i1p1f2/Amon/tas/gn/v20200428',\n",
      "                              'picontrol': '/g/data/oi10/replicas/CMIP6/CMIP/MIROC/MIROC-ES2L/piControl/r1i1p1f2/Amon/tas/gn/v20190823'},\n",
      " 'MPI-ESM1-2-LR_r1i1p1f1_Amon': {'1000pgc': '/g/data/oi10/replicas/CMIP6/C4MIP/MPI-M/MPI-ESM1-2-LR/esm-1pct-brch-1000PgC/r1i1p1f1/Amon/tas/gn/v20190815',\n",
      "                                 '1pct': '/g/data/oi10/replicas/CMIP6/CMIP/MPI-M/MPI-ESM1-2-LR/1pctCO2/r1i1p1f1/Amon/tas/gn/v20190710',\n",
      "                                 'esm-piControl': '/g/data/oi10/replicas/CMIP6/CMIP/MPI-M/MPI-ESM1-2-LR/esm-piControl/r1i1p1f1/Amon/tas/gn/v20190815',\n",
      "                                 'picontrol': '/g/data/oi10/replicas/CMIP6/CMIP/MPI-M/MPI-ESM1-2-LR/piControl/r1i1p1f1/Amon/tas/gn/v20190710'},\n",
      " 'NorESM2-LM_r1i1p1f1_Amon': {'1000pgc': '/g/data/oi10/replicas/CMIP6/C4MIP/NCC/NorESM2-LM/esm-1pct-brch-1000PgC/r1i1p1f1/Amon/tas/gn/v20191108',\n",
      "                              '1pct': '/g/data/oi10/replicas/CMIP6/CMIP/NCC/NorESM2-LM/1pctCO2/r1i1p1f1/Amon/tas/gn/v20190815',\n",
      "                              'esm-piControl': '/g/data/oi10/replicas/CMIP6/CMIP/NCC/NorESM2-LM/esm-piControl/r1i1p1f1/Amon/tas/gn/v20190920',\n",
      "                              'picontrol': '/g/data/oi10/replicas/CMIP6/CMIP/NCC/NorESM2-LM/piControl/r1i1p1f1/Amon/tas/gn/v20210118'},\n",
      " 'UKESM1-0-LL_r1i1p1f2_Amon': {'1000pgc': '/g/data/oi10/replicas/CMIP6/C4MIP/MOHC/UKESM1-0-LL/esm-1pct-brch-1000PgC/r1i1p1f2/Amon/tas/gn/v20200210',\n",
      "                               '1pct': '/g/data/oi10/replicas/CMIP6/CMIP/MOHC/UKESM1-0-LL/1pctCO2/r1i1p1f2/Amon/tas/gn/v20190406',\n",
      "                               'esm-piControl': '/g/data/oi10/replicas/CMIP6/CMIP/MOHC/UKESM1-0-LL/esm-piControl/r1i1p1f2/Amon/tas/gn/v20190916',\n",
      "                               'picontrol': '/g/data/oi10/replicas/CMIP6/CMIP/MOHC/UKESM1-0-LL/piControl/r1i1p1f2/Amon/tas/gn/v20190410'}}\n"
     ]
    }
   ],
   "source": [
    "pprint(path_obj_4)"
   ]
  },
  {
   "cell_type": "code",
   "execution_count": 30,
   "id": "91775060-0858-4725-b829-64a241c30106",
   "metadata": {
    "tags": []
   },
   "outputs": [],
   "source": [
    "with open(os.path.join(os.getcwd(), 'Documents', 'PhD', 'data', 'zecmip_experiment_paths.json'), 'w') as f:\n",
    "    json.dump(path_obj_4, f)"
   ]
  },
  {
   "cell_type": "code",
   "execution_count": 23,
   "id": "80603c7f-4901-4536-bf63-010b3f07edff",
   "metadata": {
    "tags": []
   },
   "outputs": [],
   "source": [
    "# base_fpaths_1000PgC  = np.unique([os.path.join(*f.split('/')[:9]) for f in fpaths_1000PgC])\n",
    "# base_fpaths_1000PgC "
   ]
  },
  {
   "cell_type": "code",
   "execution_count": 24,
   "id": "52545a39-ce2f-4e56-a691-3e593a25c1ee",
   "metadata": {
    "tags": []
   },
   "outputs": [],
   "source": [
    "# path_obj = {}\n",
    "# for ubp in base_paths['1000pgc']:\n",
    "#     ubp_split = ubp.split('/')\n",
    "#     model = ubp_split[8]; ensemble_member = ubp_split[10]; freq = ubp_split[11]\n",
    "#     run_params = f'{model}_{ensemble_member}_{freq}'\n",
    "#     # print(run_params)\n",
    "#     # print(ubp)\n",
    "#     dobj = {}\n",
    "#     dobj['1000pgc']= ubp\n",
    "#     for mtype in types_to_match:\n",
    "#         # print(f' -- {mtype=}')\n",
    "#         path_list = []\n",
    "#         for bmp in base_paths[mtype]:\n",
    "#             bmp_split = bmp.split('/')\n",
    "#             model_to_match = bmp_split[0]\n",
    "#             if model == model_to_match and ensemble_member in bmp:\n",
    "#                 path_list.append(bmp)\n",
    "#         # path_list = [f for f in base_paths[mtype] if model in f and ensemble_member in f]\n",
    "#         dobj[mtype] = path_list \n",
    "#     path_obj[run_params] = dobj        "
   ]
  }
 ],
 "metadata": {
  "kernelspec": {
   "display_name": "Python 3 (ipykernel)",
   "language": "python",
   "name": "python3"
  },
  "language_info": {
   "codemirror_mode": {
    "name": "ipython",
    "version": 3
   },
   "file_extension": ".py",
   "mimetype": "text/x-python",
   "name": "python",
   "nbconvert_exporter": "python",
   "pygments_lexer": "ipython3",
   "version": "3.9.15"
  },
  "toc": {
   "base_numbering": 1,
   "nav_menu": {},
   "number_sections": true,
   "sideBar": true,
   "skip_h1_title": false,
   "title_cell": "Table of Contents",
   "title_sidebar": "Contents",
   "toc_cell": false,
   "toc_position": {},
   "toc_section_display": true,
   "toc_window_display": false
  },
  "varInspector": {
   "cols": {
    "lenName": 16,
    "lenType": 16,
    "lenVar": 40
   },
   "kernels_config": {
    "python": {
     "delete_cmd_postfix": "",
     "delete_cmd_prefix": "del ",
     "library": "var_list.py",
     "varRefreshCmd": "print(var_dic_list())"
    },
    "r": {
     "delete_cmd_postfix": ") ",
     "delete_cmd_prefix": "rm(",
     "library": "var_list.r",
     "varRefreshCmd": "cat(var_dic_list()) "
    }
   },
   "types_to_exclude": [
    "module",
    "function",
    "builtin_function_or_method",
    "instance",
    "_Feature"
   ],
   "window_display": false
  }
 },
 "nbformat": 4,
 "nbformat_minor": 5
}
