{
 "cells": [
  {
   "cell_type": "code",
   "execution_count": 1,
   "id": "c7ca30ea",
   "metadata": {},
   "outputs": [],
   "source": [
    "import xarray as xr\n",
    "import os\n",
    "import sys\n",
    "import numpy as np\n",
    "import pandas as pd\n",
    "import matplotlib.pyplot as plt\n",
    "from importlib import reload\n",
    "import cftime\n",
    "from glob import glob\n",
    "\n",
    "sys.path.append('..')\n",
    "sys.path.append('../modules')\n",
    "import constants\n",
    "import xarray_class_accessors as xca\n",
    "import sn_plotting"
   ]
  },
  {
   "cell_type": "code",
   "execution_count": 3,
   "id": "7784dbb1",
   "metadata": {},
   "outputs": [],
   "source": [
    "import open_ds"
   ]
  },
  {
   "cell_type": "code",
   "execution_count": 4,
   "id": "30d83b77",
   "metadata": {},
   "outputs": [
    {
     "data": {
      "text/plain": [
       "['/g/data/oi10/replicas/CMIP6/C4MIP/CCCma/CanESM5/esm-1pct-brch-1000PgC/r2i1p2f1/Amon/pr/gn/v20190429/pr_Amon_CanESM5_esm-1pct-brch-1000PgC_r2i1p2f1_gn_191101-201012.nc',\n",
       " '/g/data/oi10/replicas/CMIP6/C4MIP/CCCma/CanESM5/esm-1pct-brch-1000PgC/r2i1p2f1/Amon/tas/gn/v20190429/tas_Amon_CanESM5_esm-1pct-brch-1000PgC_r2i1p2f1_gn_191101-201012.nc',\n",
       " '/g/data/oi10/replicas/CMIP6/C4MIP/CCCma/CanESM5/esm-1pct-brch-1000PgC/r3i1p2f1/Amon/pr/gn/v20190429/pr_Amon_CanESM5_esm-1pct-brch-1000PgC_r3i1p2f1_gn_191101-201012.nc',\n",
       " '/g/data/oi10/replicas/CMIP6/C4MIP/CCCma/CanESM5/esm-1pct-brch-1000PgC/r3i1p2f1/Amon/tas/gn/v20190429/tas_Amon_CanESM5_esm-1pct-brch-1000PgC_r3i1p2f1_gn_191101-201012.nc',\n",
       " '/g/data/oi10/replicas/CMIP6/C4MIP/CCCma/CanESM5/esm-1pct-brch-1000PgC/r1i1p2f1/Amon/tas/gn/v20190429/tas_Amon_CanESM5_esm-1pct-brch-1000PgC_r1i1p2f1_gn_191101-201012.nc']"
      ]
     },
     "execution_count": 4,
     "metadata": {},
     "output_type": "execute_result"
    }
   ],
   "source": [
    "fpaths_1000PgC = glob(constants.ZECMIP_DIR + '/**/*brch-1000PgC*.nc', recursive=True)\n",
    "fpaths_1000PgC[:5]"
   ]
  },
  {
   "cell_type": "code",
   "execution_count": 5,
   "id": "4e079d3e",
   "metadata": {},
   "outputs": [
    {
     "data": {
      "text/plain": [
       "['pr_Amon_CanESM5_esm-1pct-brch-1000PgC_r2i1p2f1_gn_191101-201012.nc',\n",
       " 'tas_Amon_CanESM5_esm-1pct-brch-1000PgC_r2i1p2f1_gn_191101-201012.nc',\n",
       " 'pr_Amon_CanESM5_esm-1pct-brch-1000PgC_r3i1p2f1_gn_191101-201012.nc',\n",
       " 'tas_Amon_CanESM5_esm-1pct-brch-1000PgC_r3i1p2f1_gn_191101-201012.nc',\n",
       " 'tas_Amon_CanESM5_esm-1pct-brch-1000PgC_r1i1p2f1_gn_191101-201012.nc']"
      ]
     },
     "execution_count": 5,
     "metadata": {},
     "output_type": "execute_result"
    }
   ],
   "source": [
    "fnames_1000PgC = list(map(os.path.basename, fpaths_1000PgC))\n",
    "fnames_1000PgC[:5]"
   ]
  },
  {
   "cell_type": "code",
   "execution_count": 22,
   "id": "3b8f5d66",
   "metadata": {},
   "outputs": [
    {
     "data": {
      "text/plain": [
       "['/g/data/oi10/replicas/CMIP6/C4MIP/MOHC/UKESM1-0-LL/esm-1pct-brch-1000PgC/r1i1p1f2/Amon/tas/gn/v20200210/tas_Amon_UKESM1-0-LL_esm-1pct-brch-1000PgC_r1i1p1f2_gn_195001-204912.nc',\n",
       " '/g/data/oi10/replicas/CMIP6/C4MIP/MOHC/UKESM1-0-LL/esm-1pct-brch-1000PgC/r1i1p1f2/Amon/tas/gn/v20200210/tas_Amon_UKESM1-0-LL_esm-1pct-brch-1000PgC_r1i1p1f2_gn_191601-194912.nc',\n",
       " '/g/data/oi10/replicas/CMIP6/C4MIP/MOHC/UKESM1-0-LL/esm-1pct-brch-1000PgC/r1i1p1f2/Amon/tas/gn/v20200210/tas_Amon_UKESM1-0-LL_esm-1pct-brch-1000PgC_r1i1p1f2_gn_205001-214912.nc',\n",
       " '/g/data/oi10/replicas/CMIP6/C4MIP/MOHC/UKESM1-0-LL/esm-1pct-brch-1000PgC/r1i1p1f2/Amon/tas/gn/v20200210/tas_Amon_UKESM1-0-LL_esm-1pct-brch-1000PgC_r1i1p1f2_gn_215001-224512.nc']"
      ]
     },
     "execution_count": 22,
     "metadata": {},
     "output_type": "execute_result"
    }
   ],
   "source": [
    "model_fpaths = [f for f in fpaths_1000PgC if 'tas' in f and 'UKESM1-0' in f and 'r1i1p1f2' in f]\n",
    "model_fpaths"
   ]
  },
  {
   "cell_type": "code",
   "execution_count": 142,
   "id": "af4b82c2",
   "metadata": {},
   "outputs": [
    {
     "data": {
      "text/plain": [
       "<module 'open_ds' from '/home/563/ab2313/Documents/PhD/zec_mip/../modules/open_ds.py'>"
      ]
     },
     "execution_count": 142,
     "metadata": {},
     "output_type": "execute_result"
    }
   ],
   "source": [
    "reload(open_ds)"
   ]
  },
  {
   "cell_type": "code",
   "execution_count": 143,
   "id": "31ce6bb0",
   "metadata": {},
   "outputs": [],
   "source": [
    "ds = open_ds.open_dataset(model_fpaths)"
   ]
  },
  {
   "cell_type": "code",
   "execution_count": 145,
   "id": "68e9c8bc",
   "metadata": {},
   "outputs": [
    {
     "name": "stdout",
     "output_type": "stream",
     "text": [
      "- Time dim is currently: time\n",
      "[cftime.DatetimeNoLeap(0, 1, 1, 0, 0, 0, 0, has_year_zero=True)\n",
      " cftime.DatetimeNoLeap(0, 1, 31, 0, 0, 0, 0, has_year_zero=True)\n",
      " cftime.DatetimeNoLeap(0, 3, 2, 0, 0, 0, 0, has_year_zero=True)\n",
      " cftime.DatetimeNoLeap(0, 4, 1, 0, 0, 0, 0, has_year_zero=True)\n",
      " cftime.DatetimeNoLeap(0, 5, 1, 0, 0, 0, 0, has_year_zero=True)]\n",
      "[cftime.DatetimeNoLeap(325, 1, 26, 0, 0, 0, 0, has_year_zero=True)\n",
      " cftime.DatetimeNoLeap(325, 2, 25, 0, 0, 0, 0, has_year_zero=True)\n",
      " cftime.DatetimeNoLeap(325, 3, 27, 0, 0, 0, 0, has_year_zero=True)\n",
      " cftime.DatetimeNoLeap(325, 4, 26, 0, 0, 0, 0, has_year_zero=True)\n",
      " cftime.DatetimeNoLeap(325, 5, 26, 0, 0, 0, 0, has_year_zero=True)]\n",
      "- New time dim of\n",
      "CFTimeIndex([0000-01-01 00:00:00, 0000-01-31 00:00:00],\n",
      "            dtype='object', length=2, calendar='noleap', freq=None)\n",
      "CFTimeIndex([0325-04-26 00:00:00, 0325-05-26 00:00:00],\n",
      "            dtype='object', length=2, calendar='noleap', freq=None)\n",
      "<xarray.Dataset>\n",
      "Dimensions:   (time: 326, lat: 144, bnds: 2, lon: 192)\n",
      "Coordinates:\n",
      "  * time      (time) object 0000-12-31 00:00:00 ... 0325-12-31 00:00:00\n",
      "  * lat       (lat) float64 -89.38 -88.12 -86.88 -85.62 ... 86.88 88.12 89.38\n",
      "  * lon       (lon) float64 0.9375 2.812 4.688 6.562 ... 353.4 355.3 357.2 359.1\n",
      "    height    float64 1.5\n",
      "Dimensions without coordinates: bnds\n",
      "Data variables:\n",
      "    lat_bnds  (time, lat, bnds) float64 dask.array<chunksize=(1, 144, 2), meta=np.ndarray>\n",
      "    lon_bnds  (time, lon, bnds) float64 dask.array<chunksize=(1, 192, 2), meta=np.ndarray>\n",
      "    tas       (time, lat, lon) float32 dask.array<chunksize=(1, 144, 192), meta=np.ndarray>\n"
     ]
    }
   ],
   "source": [
    "ds = open_ds.correct_dataset(ds)"
   ]
  },
  {
   "cell_type": "code",
   "execution_count": 146,
   "id": "f8fda3b7",
   "metadata": {},
   "outputs": [
    {
     "data": {
      "text/plain": [
       "cftime.DatetimeNoLeap(0, 12, 31, 0, 0, 0, 0, has_year_zero=True)"
      ]
     },
     "execution_count": 146,
     "metadata": {},
     "output_type": "execute_result"
    }
   ],
   "source": [
    "ds.time.values[0]"
   ]
  }
 ],
 "metadata": {
  "kernelspec": {
   "display_name": "Python 3 (ipykernel)",
   "language": "python",
   "name": "python3"
  },
  "language_info": {
   "codemirror_mode": {
    "name": "ipython",
    "version": 3
   },
   "file_extension": ".py",
   "mimetype": "text/x-python",
   "name": "python",
   "nbconvert_exporter": "python",
   "pygments_lexer": "ipython3",
   "version": "3.9.9"
  }
 },
 "nbformat": 4,
 "nbformat_minor": 5
}
