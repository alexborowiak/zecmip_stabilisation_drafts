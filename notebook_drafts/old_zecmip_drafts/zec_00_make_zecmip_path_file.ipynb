{
 "cells": [
  {
   "cell_type": "markdown",
   "id": "970ba615",
   "metadata": {},
   "source": [
    "# Getting ZECMIP File Paths\n",
    "\n",
    "- Getting all the file paths for zecmip takes a while to laod with glob. Savign all these files in a csv files to improve speed."
   ]
  },
  {
   "cell_type": "code",
   "execution_count": 2,
   "id": "4a9ea420",
   "metadata": {},
   "outputs": [],
   "source": [
    "from glob import glob\n",
    "import pandas as pd\n",
    "import sys\n",
    "sys.path.append('../')\n",
    "sys.path.append('../moduls')\n",
    "import constants"
   ]
  },
  {
   "cell_type": "code",
   "execution_count": null,
   "id": "6b042fa8",
   "metadata": {},
   "outputs": [],
   "source": [
    "%%time\n",
    "# Sample file name: tas_Amon_IPSL-CM5A2-INCA_piControl_r1i1p1f1_gr_185001-209912.nc\n",
    "fpaths_picontrol= glob(constants.DECK_DIR + '/**/tas_Amon*piControl*.nc', recursive=True)\n",
    "fpaths_1000PgC = glob(constants.ZECMIP_DIR + '/**/*brch-1000PgC*.nc', recursive=True)"
   ]
  },
  {
   "cell_type": "code",
   "execution_count": null,
   "id": "e9c6ae8e",
   "metadata": {},
   "outputs": [],
   "source": [
    "fpaths_ds = pd.DataFrame({'picontrol': fpaths_picontrol})\n",
    "fpaths_ds['1000pgc']= pd.Series(fpaths_1000PgC)"
   ]
  },
  {
   "cell_type": "code",
   "execution_count": null,
   "id": "f5782bdf",
   "metadata": {},
   "outputs": [],
   "source": [
    "fpaths_ds.head()"
   ]
  },
  {
   "cell_type": "code",
   "execution_count": null,
   "id": "c84f917f",
   "metadata": {},
   "outputs": [],
   "source": [
    "fpaths_ds.to_csv('fpaths_picontrol.csv')"
   ]
  }
 ],
 "metadata": {
  "kernelspec": {
   "display_name": "Python 3 (ipykernel)",
   "language": "python",
   "name": "python3"
  },
  "language_info": {
   "codemirror_mode": {
    "name": "ipython",
    "version": 3
   },
   "file_extension": ".py",
   "mimetype": "text/x-python",
   "name": "python",
   "nbconvert_exporter": "python",
   "pygments_lexer": "ipython3",
   "version": "3.10.13"
  }
 },
 "nbformat": 4,
 "nbformat_minor": 5
}
