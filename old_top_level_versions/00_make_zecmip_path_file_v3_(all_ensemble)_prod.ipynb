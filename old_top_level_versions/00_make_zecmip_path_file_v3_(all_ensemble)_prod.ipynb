{
 "cells": [
  {
   "cell_type": "markdown",
   "id": "970ba615",
   "metadata": {},
   "source": [
    "# Getting ZECMIP File Paths\n",
    "\n",
    "- Getting all the file paths for zecmip takes a while to laod with glob. Savign all these files in a csv files to improve speed."
   ]
  },
  {
   "cell_type": "code",
   "execution_count": 10,
   "id": "4a9ea420",
   "metadata": {
    "tags": []
   },
   "outputs": [],
   "source": [
    "from glob import glob\n",
    "import pandas as pd\n",
    "import sys, os\n",
    "import numpy as np\n",
    "sys.path.append(os.path.join(os.getcwd(), 'Documents/PhD'))\n",
    "import constants\n",
    "import json\n",
    "from pprint import pprint\n",
    "from typing import List, Dict\n",
    "import copy\n",
    "from collections import defaultdict\n",
    "from pathlib import Path"
   ]
  },
  {
   "cell_type": "code",
   "execution_count": 11,
   "id": "cfe0d021-261b-491f-9efa-2b795020adec",
   "metadata": {
    "tags": []
   },
   "outputs": [
    {
     "data": {
      "text/plain": [
       "('/g/data/oi10/replicas/CMIP6/CMIP', '/g/data/oi10/replicas/CMIP6/C4MIP')"
      ]
     },
     "execution_count": 11,
     "metadata": {},
     "output_type": "execute_result"
    }
   ],
   "source": [
    "constants.DECK_DIR, constants.ZECMIP_DIR"
   ]
  },
  {
   "cell_type": "code",
   "execution_count": 12,
   "id": "0d861c5b-cf96-4321-a230-6bfdb6d874d6",
   "metadata": {
    "tags": []
   },
   "outputs": [],
   "source": [
    "def sort_into_ensemble(path_list: List[str]) -> Dict[str, Dict[str, str]]:\n",
    "    \"\"\"\n",
    "    Sorts a list of file paths into an ensemble dictionary based on the model and its associated ensemble members.\n",
    "\n",
    "    Args:\n",
    "        path_list (List[str]): A list of file paths containing information about models, ensemble members, and frequencies.\n",
    "\n",
    "    Returns:\n",
    "        Dict[str, Dict[str, str]]: A dictionary where each model maps to a dictionary containing ensemble members as keys\n",
    "        and their corresponding file paths as values.\n",
    "    \"\"\"\n",
    "    # Create a defaultdict with nested dictionaries as the default factory\n",
    "    stor_obj = defaultdict(dict)\n",
    "\n",
    "    for path in path_list:\n",
    "        # Extract model, ensemble_member, and frequency from the file path\n",
    "        model, ensemble_member, _ = path.split('/')[8], path.split('/')[10], path.split('/')[11]\n",
    "\n",
    "        # Find all ensemble members for the current model\n",
    "        ensemble_members = [path2.split('/')[10] for path2 in path_list if ensemble_member not in path2 and model in path2]\n",
    "\n",
    "        # Update the ensemble dictionary for the current model\n",
    "        # Using the update method and dict comprehension to add the current ensemble member and all others found\n",
    "        stor_obj[model].update({ensemble_member: path, **{member: path2 for member, path2 in zip(ensemble_members, path_list) if member != ensemble_member and model in path2}})\n",
    "\n",
    "    # Convert the defaultdict to a regular dictionary and return the result\n",
    "    return dict(stor_obj)\n"
   ]
  },
  {
   "cell_type": "code",
   "execution_count": 13,
   "id": "87b61036-0eac-4ea6-b90e-23ff80fb9e33",
   "metadata": {
    "tags": []
   },
   "outputs": [],
   "source": [
    "def create_ensemble_summary(base_path_sorted_ensemble):\n",
    "    \"\"\"\n",
    "    Creates an ensemble summary dictionary based on the given sorted ensemble data.\n",
    "\n",
    "    The function takes the `base_path_sorted_ensemble`, which is a dictionary representing the sorted ensemble data.\n",
    "    It contains information about models and their associated ensemble members' file paths.\n",
    "    The `base_path_sorted_ensemble` dictionary has the following structure:\n",
    "    {\n",
    "        'model_1': {\n",
    "            'ensemble_member_1': 'file_path_for_ensemble_member_1',\n",
    "            'ensemble_member_2': 'file_path_for_ensemble_member_2',\n",
    "            ...\n",
    "        },\n",
    "        'model_2': {\n",
    "            'ensemble_member_1': 'file_path_for_ensemble_member_1',\n",
    "            'ensemble_member_2': 'file_path_for_ensemble_member_2',\n",
    "            ...\n",
    "        },\n",
    "        ...\n",
    "    }\n",
    "\n",
    "    The function creates an ensemble summary dictionary, `stor_obj_to_return`, where each model maps to a dictionary.\n",
    "    The inner dictionaries contain information about ensemble members associated with that model.\n",
    "    If an ensemble member is missing for a specific model, it is not included in the inner dictionary.\n",
    "\n",
    "    Args:\n",
    "        base_path_sorted_ensemble (dict): A dictionary representing the sorted ensemble data.\n",
    "\n",
    "    Returns:\n",
    "        dict: An ensemble summary dictionary where each model maps to a dictionary containing ensemble members as keys\n",
    "        and their corresponding file paths as values.\n",
    "    \"\"\"\n",
    "    stor_obj_to_return = {}\n",
    "\n",
    "    for model, values in base_path_sorted_ensemble['1000pgc'].items():\n",
    "        # Use dictionary comprehension to create the model_dict containing ensemble members for the current model\n",
    "        model_dict = {exp: base_path_sorted_ensemble[exp][model] for exp in base_path_sorted_ensemble if exp != '1000pgc' and model in base_path_sorted_ensemble[exp]}\n",
    "        \n",
    "        # Add the ensemble member values for the current model from '1000pgc'\n",
    "        model_dict['1000pgc'] = values\n",
    "\n",
    "        # Add the model_dict to the stor_obj_to_return\n",
    "        stor_obj_to_return[model] = model_dict\n",
    "\n",
    "    return stor_obj_to_return\n"
   ]
  },
  {
   "cell_type": "code",
   "execution_count": 14,
   "id": "6b042fa8",
   "metadata": {
    "tags": []
   },
   "outputs": [
    {
     "name": "stdout",
     "output_type": "stream",
     "text": [
      "CPU times: user 636 ms, sys: 3.45 s, total: 4.09 s\n",
      "Wall time: 12 s\n"
     ]
    }
   ],
   "source": [
    "%%time\n",
    "# Sample file name: tas_Amon_IPSL-CM5A2-INCA_piControl_r1i1p1f1_gr_185001-209912.nc\n",
    "fpaths_1000PgC = glob(constants.ZECMIP_DIR + '/**/*tas_*Amon*brch-1000PgC*.nc', recursive=True)"
   ]
  },
  {
   "cell_type": "code",
   "execution_count": 15,
   "id": "fe5eda35-2128-4dba-a05a-4d859cb233bc",
   "metadata": {
    "tags": []
   },
   "outputs": [],
   "source": [
    "# Needs _piControl or else will also get esm-piControl\n",
    "fpaths_picontrol = glob(constants.DECK_DIR + '/**/*tas_*Amon*_piControl*.nc', recursive=True)"
   ]
  },
  {
   "cell_type": "code",
   "execution_count": 16,
   "id": "52d0025b-7ac0-4ffc-b484-571e64fedf85",
   "metadata": {
    "tags": []
   },
   "outputs": [],
   "source": [
    "fpaths_esm_picontrol = glob('/g/data/oi10/replicas/CMIP6/CMIP' + '/**/*tas_*Amon*esm-piControl*.nc', recursive=True)"
   ]
  },
  {
   "cell_type": "code",
   "execution_count": 17,
   "id": "d7238602-e673-4407-b155-4ff5504f8d57",
   "metadata": {
    "tags": []
   },
   "outputs": [
    {
     "data": {
      "text/plain": [
       "['/g/data/oi10/replicas/CMIP6/CMIP/INM/INM-CM5-0/piControl/r1i1p1f1/Amon/tas/gr1/v20190619/tas_Amon_INM-CM5-0_piControl_r1i1p1f1_gr1_314801-319612.nc',\n",
       " '/g/data/oi10/replicas/CMIP6/CMIP/INM/INM-CM5-0/piControl/r1i1p1f1/Amon/tas/gr1/v20190619/tas_Amon_INM-CM5-0_piControl_r1i1p1f1_gr1_246901-249512.nc',\n",
       " '/g/data/oi10/replicas/CMIP6/CMIP/INM/INM-CM5-0/piControl/r1i1p1f1/Amon/tas/gr1/v20190619/tas_Amon_INM-CM5-0_piControl_r1i1p1f1_gr1_236901-246812.nc']"
      ]
     },
     "execution_count": 17,
     "metadata": {},
     "output_type": "execute_result"
    }
   ],
   "source": [
    "fpaths_picontrol[:3]"
   ]
  },
  {
   "cell_type": "code",
   "execution_count": 18,
   "id": "13f7f5fb-493c-4cb3-9bd5-d4dfd69d4eef",
   "metadata": {
    "tags": []
   },
   "outputs": [],
   "source": [
    "fpaths_1pct = glob(constants.DECK_DIR + '/**/*tas_*Amon*1pctCO2*.nc', recursive=True)"
   ]
  },
  {
   "cell_type": "code",
   "execution_count": 19,
   "id": "705d0a9b-53cd-4c55-ae5c-902474b00168",
   "metadata": {
    "tags": []
   },
   "outputs": [],
   "source": [
    "fpaths_1pct.extend([\n",
    "    # '/g/data/oi10/replicas/CMIP6/CMIP/NASA-GISS/GISS-E2-1-G/1pctCO2/r1i1p1f1/Amon/tas/gn/v20180905',\n",
    "    '/g/data/fs38/publications/CMIP6/CMIP/CSIRO/ACCESS-ESM1-5/1pctCO2/r1i1p1f1/Amon/tas/gn/v20191115/'\n",
    "])\n",
    "\n",
    "fpaths_picontrol.extend([\n",
    "    '/g/data/fs38/publications/CMIP6/CMIP/CSIRO/ACCESS-ESM1-5/piControl/r1i1p1f1/Amon/tas/gn/v20210316/'\n",
    "])\n",
    "\n",
    "fpaths_1000PgC.extend([\n",
    "    '/g/data/fs38/publications/CMIP6/C4MIP/CSIRO/ACCESS-ESM1-5/esm-1pct-brch-1000PgC/r1i1p1f1/Amon/tas/gn/v20191206/',\n",
    "])\n",
    "\n",
    "fpaths_esm_picontrol.extend([\n",
    "    '/g/data/fs38/publications/CMIP6/CMIP/CSIRO/ACCESS-ESM1-5/esm-piControl/r1i1p1f1/Amon/tas/gn/v20191115/'\n",
    "    # '/g/data/w40/ab2313/PhD/zecmip/original/esm_picontrol/GISS' \n",
    "])"
   ]
  },
  {
   "cell_type": "code",
   "execution_count": 20,
   "id": "5f80c961-9efc-4f9f-a283-98ed8bea8041",
   "metadata": {
    "tags": []
   },
   "outputs": [
    {
     "data": {
      "text/plain": [
       "['/g/data/oi10/replicas/CMIP6/CMIP/INM/INM-CM5-0/1pctCO2/r1i1p1f1/Amon/tas/gr1/v20200226/tas_Amon_INM-CM5-0_1pctCO2_r1i1p1f1_gr1_188401-196212.nc',\n",
       " '/g/data/oi10/replicas/CMIP6/CMIP/INM/INM-CM5-0/1pctCO2/r1i1p1f1/Amon/tas/gr1/v20200226/tas_Amon_INM-CM5-0_1pctCO2_r1i1p1f1_gr1_196301-199912.nc',\n",
       " '/g/data/oi10/replicas/CMIP6/CMIP/INM/INM-CM5-0/1pctCO2/r1i1p1f1/Amon/tas/gr1/v20200226/tas_Amon_INM-CM5-0_1pctCO2_r1i1p1f1_gr1_185001-188312.nc']"
      ]
     },
     "execution_count": 20,
     "metadata": {},
     "output_type": "execute_result"
    }
   ],
   "source": [
    "fpaths_1pct[:3]"
   ]
  },
  {
   "cell_type": "code",
   "execution_count": 21,
   "id": "a80773af-86e4-494d-abd0-3a81f48aa39f",
   "metadata": {
    "tags": []
   },
   "outputs": [],
   "source": [
    "base_paths = {\n",
    "    'picontrol': np.sort(np.unique(list(map(os.path.dirname, fpaths_picontrol)))),\n",
    "    'esm-piControl':np.sort(np.unique(list(map(os.path.dirname, fpaths_esm_picontrol)))),\n",
    "    '1000pgc':np.sort(np.unique(list(map(os.path.dirname, fpaths_1000PgC)))),\n",
    "    '1pct':np.sort(np.unique(list(map(os.path.dirname, fpaths_1pct))))}"
   ]
  },
  {
   "cell_type": "code",
   "execution_count": 22,
   "id": "70ef028f-babd-4912-ba13-10fb24669356",
   "metadata": {
    "tags": []
   },
   "outputs": [],
   "source": [
    "base_path_sorted_ensemble = {key: sort_into_ensemble(base_path_list) for key, base_path_list in base_paths.items()}"
   ]
  },
  {
   "cell_type": "code",
   "execution_count": 23,
   "id": "ba0b3201-a923-4473-9c95-efafeeb72905",
   "metadata": {
    "tags": []
   },
   "outputs": [
    {
     "name": "stdout",
     "output_type": "stream",
     "text": [
      "{'ACCESS-ESM1-5': {'r1i1p1f1': '/g/data/fs38/publications/CMIP6/C4MIP/CSIRO/ACCESS-ESM1-5/esm-1pct-brch-1000PgC/r1i1p1f1/Amon/tas/gn/v20191206'},\n",
      " 'CESM2': {'r1i1p1f1': '/g/data/oi10/replicas/CMIP6/C4MIP/NCAR/CESM2/esm-1pct-brch-1000PgC/r1i1p1f1/Amon/tas/gn/v20191119'},\n",
      " 'CanESM5': {'r1i1p2f1': '/g/data/oi10/replicas/CMIP6/C4MIP/CCCma/CanESM5/esm-1pct-brch-1000PgC/r1i1p2f1/Amon/tas/gn/v20190429',\n",
      "             'r2i1p2f1': '/g/data/oi10/replicas/CMIP6/C4MIP/CCCma/CanESM5/esm-1pct-brch-1000PgC/r1i1p2f1/Amon/tas/gn/v20190429',\n",
      "             'r3i1p2f1': '/g/data/oi10/replicas/CMIP6/C4MIP/CCCma/CanESM5/esm-1pct-brch-1000PgC/r2i1p2f1/Amon/tas/gn/v20190429',\n",
      "             'r4i1p2f1': '/g/data/oi10/replicas/CMIP6/C4MIP/CCCma/CanESM5/esm-1pct-brch-1000PgC/r3i1p2f1/Amon/tas/gn/v20190429',\n",
      "             'r5i1p2f1': '/g/data/oi10/replicas/CMIP6/C4MIP/CCCma/CanESM5/esm-1pct-brch-1000PgC/r5i1p2f1/Amon/tas/gn/v20190429'},\n",
      " 'GFDL-ESM4': {'r1i1p1f1': '/g/data/oi10/replicas/CMIP6/C4MIP/NOAA-GFDL/GFDL-ESM4/esm-1pct-brch-1000PgC/r1i1p1f1/Amon/tas/gr1/v20180701'},\n",
      " 'GISS-E2-1-G-CC': {'r1i1p1f1': '/g/data/oi10/replicas/CMIP6/C4MIP/NASA-GISS/GISS-E2-1-G-CC/esm-1pct-brch-1000PgC/r1i1p1f1/Amon/tas/gn/v20191202'},\n",
      " 'MIROC-ES2L': {'r1i1p1f2': '/g/data/oi10/replicas/CMIP6/C4MIP/MIROC/MIROC-ES2L/esm-1pct-brch-1000PgC/r1i1p1f2/Amon/tas/gn/v20200622'},\n",
      " 'MPI-ESM1-2-LR': {'r1i1p1f1': '/g/data/oi10/replicas/CMIP6/C4MIP/MPI-M/MPI-ESM1-2-LR/esm-1pct-brch-1000PgC/r1i1p1f1/Amon/tas/gn/v20190815'},\n",
      " 'NorESM2-LM': {'r1i1p1f1': '/g/data/oi10/replicas/CMIP6/C4MIP/NCC/NorESM2-LM/esm-1pct-brch-1000PgC/r1i1p1f1/Amon/tas/gn/v20191108'},\n",
      " 'UKESM1-0-LL': {'r1i1p1f2': '/g/data/oi10/replicas/CMIP6/C4MIP/MOHC/UKESM1-0-LL/esm-1pct-brch-1000PgC/r1i1p1f2/Amon/tas/gn/v20200210',\n",
      "                 'r2i1p1f2': '/g/data/oi10/replicas/CMIP6/C4MIP/MOHC/UKESM1-0-LL/esm-1pct-brch-1000PgC/r2i1p1f2/Amon/tas/gn/v20200106',\n",
      "                 'r3i1p1f2': '/g/data/oi10/replicas/CMIP6/C4MIP/MOHC/UKESM1-0-LL/esm-1pct-brch-1000PgC/r3i1p1f2/Amon/tas/gn/v20200929',\n",
      "                 'r4i1p1f2': '/g/data/oi10/replicas/CMIP6/C4MIP/MOHC/UKESM1-0-LL/esm-1pct-brch-1000PgC/r4i1p1f2/Amon/tas/gn/v20200708'}}\n"
     ]
    }
   ],
   "source": [
    "pprint(base_path_sorted_ensemble['1000pgc'])"
   ]
  },
  {
   "cell_type": "code",
   "execution_count": 24,
   "id": "c291e40d-8989-47c6-9f13-7cf0e7fe8491",
   "metadata": {
    "tags": []
   },
   "outputs": [],
   "source": [
    "base_path_sorted_ensemble_model = create_ensemble_summary(base_path_sorted_ensemble)"
   ]
  },
  {
   "cell_type": "code",
   "execution_count": 25,
   "id": "ef153e21-e075-4bd3-a156-406fd2993aab",
   "metadata": {
    "tags": []
   },
   "outputs": [
    {
     "name": "stdout",
     "output_type": "stream",
     "text": [
      "{'1000pgc': {'r1i1p2f1': '/g/data/oi10/replicas/CMIP6/C4MIP/CCCma/CanESM5/esm-1pct-brch-1000PgC/r1i1p2f1/Amon/tas/gn/v20190429',\n",
      "             'r2i1p2f1': '/g/data/oi10/replicas/CMIP6/C4MIP/CCCma/CanESM5/esm-1pct-brch-1000PgC/r1i1p2f1/Amon/tas/gn/v20190429',\n",
      "             'r3i1p2f1': '/g/data/oi10/replicas/CMIP6/C4MIP/CCCma/CanESM5/esm-1pct-brch-1000PgC/r2i1p2f1/Amon/tas/gn/v20190429',\n",
      "             'r4i1p2f1': '/g/data/oi10/replicas/CMIP6/C4MIP/CCCma/CanESM5/esm-1pct-brch-1000PgC/r3i1p2f1/Amon/tas/gn/v20190429',\n",
      "             'r5i1p2f1': '/g/data/oi10/replicas/CMIP6/C4MIP/CCCma/CanESM5/esm-1pct-brch-1000PgC/r5i1p2f1/Amon/tas/gn/v20190429'},\n",
      " '1pct': {'r1i1p1f1': '/g/data/oi10/replicas/CMIP6/CMIP/CCCma/CanESM5/1pctCO2/r1i1p1f1/Amon/tas/gn/v20190429',\n",
      "          'r1i1p2f1': '/g/data/oi10/replicas/CMIP6/CMIP/CCCma/CanESM5/1pctCO2/r1i1p2f1/Amon/tas/gn/v20190429',\n",
      "          'r2i1p1f1': '/g/data/oi10/replicas/CMIP6/CMIP/CCCma/CanESM5/1pctCO2/r2i1p1f1/Amon/tas/gn/v20190429',\n",
      "          'r2i1p2f1': '/g/data/oi10/replicas/CMIP6/CMIP/CCCma/CanESM5/1pctCO2/r2i1p2f1/Amon/tas/gn/v20190429',\n",
      "          'r3i1p1f1': '/g/data/oi10/replicas/CMIP6/CMIP/CCCma/CanESM5/1pctCO2/r3i1p1f1/Amon/tas/gn/v20190429',\n",
      "          'r3i1p2f1': '/g/data/oi10/replicas/CMIP6/CMIP/CCCma/CanESM5/1pctCO2/r3i1p2f1/Amon/tas/gn/v20190429'},\n",
      " 'esm-piControl': {'r1i1p1f1': '/g/data/oi10/replicas/CMIP6/CMIP/CCCma/CanESM5/esm-piControl/r1i1p1f1/Amon/tas/gn/v20190429'},\n",
      " 'picontrol': {'r1i1p1f1': '/g/data/oi10/replicas/CMIP6/CMIP/CCCma/CanESM5/piControl/r1i1p1f1/Amon/tas/gn/v20190429',\n",
      "               'r1i1p2f1': '/g/data/oi10/replicas/CMIP6/CMIP/CCCma/CanESM5/piControl/r1i1p2f1/Amon/tas/gn/v20190429'}}\n"
     ]
    }
   ],
   "source": [
    "pprint(base_path_sorted_ensemble_model['CanESM5'])"
   ]
  },
  {
   "cell_type": "code",
   "execution_count": 26,
   "id": "c4132dbb-70b9-47fe-add3-5af7b961a8e8",
   "metadata": {
    "tags": []
   },
   "outputs": [
    {
     "name": "stdout",
     "output_type": "stream",
     "text": [
      "{'1000pgc': {'r1i1p1f1': '/g/data/oi10/replicas/CMIP6/C4MIP/NASA-GISS/GISS-E2-1-G-CC/esm-1pct-brch-1000PgC/r1i1p1f1/Amon/tas/gn/v20191202'},\n",
      " 'picontrol': {'r1i1p1f1': '/g/data/oi10/replicas/CMIP6/CMIP/NASA-GISS/GISS-E2-1-G-CC/piControl/r1i1p1f1/Amon/tas/gn/v20190815'}}\n"
     ]
    }
   ],
   "source": [
    "pprint(base_path_sorted_ensemble_model['GISS-E2-1-G-CC'])"
   ]
  },
  {
   "cell_type": "code",
   "execution_count": 27,
   "id": "7861b342-f2be-488f-bcfb-b61fecee27ef",
   "metadata": {
    "tags": []
   },
   "outputs": [],
   "source": [
    "base_path_sorted_ensemble_model['GISS-E2-1-G-CC'].update(\n",
    "    **{'esm-piControl' :{'r1i1p1f1':'/g/data/w40/ab2313/PhD/zecmip/original/esm_picontrol/GISS'}, \n",
    "       '1pct':{'r1i1p1f1': '/g/data/oi10/replicas/CMIP6/CMIP/NASA-GISS/GISS-E2-1-G/1pctCO2/r1i1p1f1/Amon/tas/gn/v20180905'}\n",
    "    })"
   ]
  },
  {
   "cell_type": "code",
   "execution_count": 33,
   "id": "122a8e60-4896-4419-b7c0-318cc4adc3b4",
   "metadata": {
    "tags": []
   },
   "outputs": [],
   "source": [
    "base_path_sorted_ensemble_model['UKESM1-0-LL'].update(\n",
    "    **{'esm-piControl' :{'r1i1p1f1':'/g/data/w40/ab2313/PhD/zecmip/original/esm_picontrol/UKESM1-0-LL'}, \n",
    "    })"
   ]
  },
  {
   "cell_type": "code",
   "execution_count": 35,
   "id": "dff3d9f0-36c2-4b22-81b9-26a569909a84",
   "metadata": {
    "tags": []
   },
   "outputs": [
    {
     "data": {
      "text/plain": [
       "{'picontrol': {'r1i1p1f2': '/g/data/oi10/replicas/CMIP6/CMIP/MOHC/UKESM1-0-LL/piControl/r1i1p1f2/Amon/tas/gn/v20200828'},\n",
       " 'esm-piControl': {'r1i1p1f1': '/g/data/w40/ab2313/PhD/zecmip/original/esm_picontrol/UKESM1-0-LL'},\n",
       " '1pct': {'r1i1p1f2': '/g/data/oi10/replicas/CMIP6/CMIP/MOHC/UKESM1-0-LL/1pctCO2/r1i1p1f2/Amon/tas/gn/v20190406',\n",
       "  'r2i1p1f2': '/g/data/oi10/replicas/CMIP6/CMIP/MOHC/UKESM1-0-LL/1pctCO2/r2i1p1f2/Amon/tas/gn/v20190603',\n",
       "  'r3i1p1f2': '/g/data/oi10/replicas/CMIP6/CMIP/MOHC/UKESM1-0-LL/1pctCO2/r3i1p1f2/Amon/tas/gn/v20190604',\n",
       "  'r4i1p1f2': '/g/data/oi10/replicas/CMIP6/CMIP/MOHC/UKESM1-0-LL/1pctCO2/r4i1p1f2/Amon/tas/gn/v20190604'},\n",
       " '1000pgc': {'r1i1p1f2': '/g/data/oi10/replicas/CMIP6/C4MIP/MOHC/UKESM1-0-LL/esm-1pct-brch-1000PgC/r1i1p1f2/Amon/tas/gn/v20200210',\n",
       "  'r2i1p1f2': '/g/data/oi10/replicas/CMIP6/C4MIP/MOHC/UKESM1-0-LL/esm-1pct-brch-1000PgC/r2i1p1f2/Amon/tas/gn/v20200106',\n",
       "  'r3i1p1f2': '/g/data/oi10/replicas/CMIP6/C4MIP/MOHC/UKESM1-0-LL/esm-1pct-brch-1000PgC/r3i1p1f2/Amon/tas/gn/v20200929',\n",
       "  'r4i1p1f2': '/g/data/oi10/replicas/CMIP6/C4MIP/MOHC/UKESM1-0-LL/esm-1pct-brch-1000PgC/r4i1p1f2/Amon/tas/gn/v20200708'}}"
      ]
     },
     "execution_count": 35,
     "metadata": {},
     "output_type": "execute_result"
    }
   ],
   "source": [
    "base_path_sorted_ensemble_model['UKESM1-0-LL']"
   ]
  },
  {
   "cell_type": "code",
   "execution_count": 36,
   "id": "df9fc53b-dff2-4fa7-a725-11b8d9b53a7c",
   "metadata": {
    "tags": []
   },
   "outputs": [
    {
     "name": "stdout",
     "output_type": "stream",
     "text": [
      "{'ACCESS-ESM1-5': {'1000pgc': {'r1i1p1f1': '/g/data/fs38/publications/CMIP6/C4MIP/CSIRO/ACCESS-ESM1-5/esm-1pct-brch-1000PgC/r1i1p1f1/Amon/tas/gn/v20191206'},\n",
      "                   '1pct': {'r1i1p1f1': '/g/data/fs38/publications/CMIP6/CMIP/CSIRO/ACCESS-ESM1-5/1pctCO2/r1i1p1f1/Amon/tas/gn/v20191115'},\n",
      "                   'esm-piControl': {'r1i1p1f1': '/g/data/fs38/publications/CMIP6/CMIP/CSIRO/ACCESS-ESM1-5/esm-piControl/r1i1p1f1/Amon/tas/gn/v20191115'},\n",
      "                   'picontrol': {'r1i1p1f1': '/g/data/fs38/publications/CMIP6/CMIP/CSIRO/ACCESS-ESM1-5/piControl/r1i1p1f1/Amon/tas/gn/v20210316'}},\n",
      " 'CESM2': {'1000pgc': {'r1i1p1f1': '/g/data/oi10/replicas/CMIP6/C4MIP/NCAR/CESM2/esm-1pct-brch-1000PgC/r1i1p1f1/Amon/tas/gn/v20191119'},\n",
      "           '1pct': {'r1i1p1f1': '/g/data/oi10/replicas/CMIP6/CMIP/NCAR/CESM2/1pctCO2/r1i1p1f1/Amon/tas/gn/v20190425'},\n",
      "           'esm-piControl': {'r1i1p1f1': '/g/data/oi10/replicas/CMIP6/CMIP/NCAR/CESM2/esm-piControl/r1i1p1f1/Amon/tas/gn/v20190723'},\n",
      "           'picontrol': {'r1i1p1f1': '/g/data/oi10/replicas/CMIP6/CMIP/NCAR/CESM2/piControl/r1i1p1f1/Amon/tas/gn/v20190320'}},\n",
      " 'CanESM5': {'1000pgc': {'r1i1p2f1': '/g/data/oi10/replicas/CMIP6/C4MIP/CCCma/CanESM5/esm-1pct-brch-1000PgC/r1i1p2f1/Amon/tas/gn/v20190429',\n",
      "                         'r2i1p2f1': '/g/data/oi10/replicas/CMIP6/C4MIP/CCCma/CanESM5/esm-1pct-brch-1000PgC/r1i1p2f1/Amon/tas/gn/v20190429',\n",
      "                         'r3i1p2f1': '/g/data/oi10/replicas/CMIP6/C4MIP/CCCma/CanESM5/esm-1pct-brch-1000PgC/r2i1p2f1/Amon/tas/gn/v20190429',\n",
      "                         'r4i1p2f1': '/g/data/oi10/replicas/CMIP6/C4MIP/CCCma/CanESM5/esm-1pct-brch-1000PgC/r3i1p2f1/Amon/tas/gn/v20190429',\n",
      "                         'r5i1p2f1': '/g/data/oi10/replicas/CMIP6/C4MIP/CCCma/CanESM5/esm-1pct-brch-1000PgC/r5i1p2f1/Amon/tas/gn/v20190429'},\n",
      "             '1pct': {'r1i1p1f1': '/g/data/oi10/replicas/CMIP6/CMIP/CCCma/CanESM5/1pctCO2/r1i1p1f1/Amon/tas/gn/v20190429',\n",
      "                      'r1i1p2f1': '/g/data/oi10/replicas/CMIP6/CMIP/CCCma/CanESM5/1pctCO2/r1i1p2f1/Amon/tas/gn/v20190429',\n",
      "                      'r2i1p1f1': '/g/data/oi10/replicas/CMIP6/CMIP/CCCma/CanESM5/1pctCO2/r2i1p1f1/Amon/tas/gn/v20190429',\n",
      "                      'r2i1p2f1': '/g/data/oi10/replicas/CMIP6/CMIP/CCCma/CanESM5/1pctCO2/r2i1p2f1/Amon/tas/gn/v20190429',\n",
      "                      'r3i1p1f1': '/g/data/oi10/replicas/CMIP6/CMIP/CCCma/CanESM5/1pctCO2/r3i1p1f1/Amon/tas/gn/v20190429',\n",
      "                      'r3i1p2f1': '/g/data/oi10/replicas/CMIP6/CMIP/CCCma/CanESM5/1pctCO2/r3i1p2f1/Amon/tas/gn/v20190429'},\n",
      "             'esm-piControl': {'r1i1p1f1': '/g/data/oi10/replicas/CMIP6/CMIP/CCCma/CanESM5/esm-piControl/r1i1p1f1/Amon/tas/gn/v20190429'},\n",
      "             'picontrol': {'r1i1p1f1': '/g/data/oi10/replicas/CMIP6/CMIP/CCCma/CanESM5/piControl/r1i1p1f1/Amon/tas/gn/v20190429',\n",
      "                           'r1i1p2f1': '/g/data/oi10/replicas/CMIP6/CMIP/CCCma/CanESM5/piControl/r1i1p2f1/Amon/tas/gn/v20190429'}},\n",
      " 'GFDL-ESM4': {'1000pgc': {'r1i1p1f1': '/g/data/oi10/replicas/CMIP6/C4MIP/NOAA-GFDL/GFDL-ESM4/esm-1pct-brch-1000PgC/r1i1p1f1/Amon/tas/gr1/v20180701'},\n",
      "               '1pct': {'r1i1p1f1': '/g/data/oi10/replicas/CMIP6/CMIP/NOAA-GFDL/GFDL-ESM4/1pctCO2/r1i1p1f1/Amon/tas/gr1/v20180701'},\n",
      "               'esm-piControl': {'r1i1p1f1': '/g/data/oi10/replicas/CMIP6/CMIP/NOAA-GFDL/GFDL-ESM4/esm-piControl/r1i1p1f1/Amon/tas/gr1/v20180701'},\n",
      "               'picontrol': {'r1i1p1f1': '/g/data/oi10/replicas/CMIP6/CMIP/NOAA-GFDL/GFDL-ESM4/piControl/r1i1p1f1/Amon/tas/gr1/v20180701'}},\n",
      " 'GISS-E2-1-G-CC': {'1000pgc': {'r1i1p1f1': '/g/data/oi10/replicas/CMIP6/C4MIP/NASA-GISS/GISS-E2-1-G-CC/esm-1pct-brch-1000PgC/r1i1p1f1/Amon/tas/gn/v20191202'},\n",
      "                    '1pct': {'r1i1p1f1': '/g/data/oi10/replicas/CMIP6/CMIP/NASA-GISS/GISS-E2-1-G/1pctCO2/r1i1p1f1/Amon/tas/gn/v20180905'},\n",
      "                    'esm-piControl': {'r1i1p1f1': '/g/data/w40/ab2313/PhD/zecmip/original/esm_picontrol/GISS'},\n",
      "                    'picontrol': {'r1i1p1f1': '/g/data/oi10/replicas/CMIP6/CMIP/NASA-GISS/GISS-E2-1-G-CC/piControl/r1i1p1f1/Amon/tas/gn/v20190815'}},\n",
      " 'MIROC-ES2L': {'1000pgc': {'r1i1p1f2': '/g/data/oi10/replicas/CMIP6/C4MIP/MIROC/MIROC-ES2L/esm-1pct-brch-1000PgC/r1i1p1f2/Amon/tas/gn/v20200622'},\n",
      "                '1pct': {'r1i1p1f2': '/g/data/oi10/replicas/CMIP6/CMIP/MIROC/MIROC-ES2L/1pctCO2/r1i1p1f2/Amon/tas/gn/v20190823'},\n",
      "                'esm-piControl': {'r1i1p1f2': '/g/data/oi10/replicas/CMIP6/CMIP/MIROC/MIROC-ES2L/esm-piControl/r1i1p1f2/Amon/tas/gn/v20200428'},\n",
      "                'picontrol': {'r1i1p1f2': '/g/data/oi10/replicas/CMIP6/CMIP/MIROC/MIROC-ES2L/piControl/r1i1p1f2/Amon/tas/gn/v20190823'}},\n",
      " 'MPI-ESM1-2-LR': {'1000pgc': {'r1i1p1f1': '/g/data/oi10/replicas/CMIP6/C4MIP/MPI-M/MPI-ESM1-2-LR/esm-1pct-brch-1000PgC/r1i1p1f1/Amon/tas/gn/v20190815'},\n",
      "                   '1pct': {'r1i1p1f1': '/g/data/oi10/replicas/CMIP6/CMIP/MPI-M/MPI-ESM1-2-LR/1pctCO2/r1i1p1f1/Amon/tas/gn/v20190710'},\n",
      "                   'esm-piControl': {'r1i1p1f1': '/g/data/oi10/replicas/CMIP6/CMIP/MPI-M/MPI-ESM1-2-LR/esm-piControl/r1i1p1f1/Amon/tas/gn/v20190815'},\n",
      "                   'picontrol': {'r1i1p1f1': '/g/data/oi10/replicas/CMIP6/CMIP/MPI-M/MPI-ESM1-2-LR/piControl/r1i1p1f1/Amon/tas/gn/v20190710',\n",
      "                                 'r2i1p1f1': '/g/data/oi10/replicas/CMIP6/CMIP/MPI-M/MPI-ESM1-2-LR/piControl/r2i1p1f1/Amon/tas/gn/v20190815'}},\n",
      " 'NorESM2-LM': {'1000pgc': {'r1i1p1f1': '/g/data/oi10/replicas/CMIP6/C4MIP/NCC/NorESM2-LM/esm-1pct-brch-1000PgC/r1i1p1f1/Amon/tas/gn/v20191108'},\n",
      "                '1pct': {'r1i1p1f1': '/g/data/oi10/replicas/CMIP6/CMIP/NCC/NorESM2-LM/1pctCO2/r1i1p1f1/Amon/tas/gn/v20190815'},\n",
      "                'esm-piControl': {'r1i1p1f1': '/g/data/oi10/replicas/CMIP6/CMIP/NCC/NorESM2-LM/esm-piControl/r1i1p1f1/Amon/tas/gn/v20190920'},\n",
      "                'picontrol': {'r1i1p1f1': '/g/data/oi10/replicas/CMIP6/CMIP/NCC/NorESM2-LM/piControl/r1i1p1f1/Amon/tas/gn/v20210118'}},\n",
      " 'UKESM1-0-LL': {'1000pgc': {'r1i1p1f2': '/g/data/oi10/replicas/CMIP6/C4MIP/MOHC/UKESM1-0-LL/esm-1pct-brch-1000PgC/r1i1p1f2/Amon/tas/gn/v20200210',\n",
      "                             'r2i1p1f2': '/g/data/oi10/replicas/CMIP6/C4MIP/MOHC/UKESM1-0-LL/esm-1pct-brch-1000PgC/r2i1p1f2/Amon/tas/gn/v20200106',\n",
      "                             'r3i1p1f2': '/g/data/oi10/replicas/CMIP6/C4MIP/MOHC/UKESM1-0-LL/esm-1pct-brch-1000PgC/r3i1p1f2/Amon/tas/gn/v20200929',\n",
      "                             'r4i1p1f2': '/g/data/oi10/replicas/CMIP6/C4MIP/MOHC/UKESM1-0-LL/esm-1pct-brch-1000PgC/r4i1p1f2/Amon/tas/gn/v20200708'},\n",
      "                 '1pct': {'r1i1p1f2': '/g/data/oi10/replicas/CMIP6/CMIP/MOHC/UKESM1-0-LL/1pctCO2/r1i1p1f2/Amon/tas/gn/v20190406',\n",
      "                          'r2i1p1f2': '/g/data/oi10/replicas/CMIP6/CMIP/MOHC/UKESM1-0-LL/1pctCO2/r2i1p1f2/Amon/tas/gn/v20190603',\n",
      "                          'r3i1p1f2': '/g/data/oi10/replicas/CMIP6/CMIP/MOHC/UKESM1-0-LL/1pctCO2/r3i1p1f2/Amon/tas/gn/v20190604',\n",
      "                          'r4i1p1f2': '/g/data/oi10/replicas/CMIP6/CMIP/MOHC/UKESM1-0-LL/1pctCO2/r4i1p1f2/Amon/tas/gn/v20190604'},\n",
      "                 'esm-piControl': {'r1i1p1f1': '/g/data/w40/ab2313/PhD/zecmip/original/esm_picontrol/UKESM1-0-LL'},\n",
      "                 'picontrol': {'r1i1p1f2': '/g/data/oi10/replicas/CMIP6/CMIP/MOHC/UKESM1-0-LL/piControl/r1i1p1f2/Amon/tas/gn/v20200828'}}}\n"
     ]
    }
   ],
   "source": [
    "pprint(base_path_sorted_ensemble_model)"
   ]
  },
  {
   "cell_type": "code",
   "execution_count": 39,
   "id": "d14fe29b-794b-4099-92b1-6f9f21e594bb",
   "metadata": {
    "tags": []
   },
   "outputs": [],
   "source": [
    "with open(Path.cwd() / 'Documents' / 'PhD' / 'data' /'zecmip_experiment_paths_ensemble_sorted.json', 'w') as fp:\n",
    "    json.dump(base_path_sorted_ensemble_model, fp)"
   ]
  }
 ],
 "metadata": {
  "kernelspec": {
   "display_name": "Python 3 (ipykernel)",
   "language": "python",
   "name": "python3"
  },
  "language_info": {
   "codemirror_mode": {
    "name": "ipython",
    "version": 3
   },
   "file_extension": ".py",
   "mimetype": "text/x-python",
   "name": "python",
   "nbconvert_exporter": "python",
   "pygments_lexer": "ipython3",
   "version": "3.10.13"
  },
  "toc": {
   "base_numbering": 1,
   "nav_menu": {},
   "number_sections": true,
   "sideBar": true,
   "skip_h1_title": false,
   "title_cell": "Table of Contents",
   "title_sidebar": "Contents",
   "toc_cell": false,
   "toc_position": {},
   "toc_section_display": true,
   "toc_window_display": false
  },
  "varInspector": {
   "cols": {
    "lenName": 16,
    "lenType": 16,
    "lenVar": 40
   },
   "kernels_config": {
    "python": {
     "delete_cmd_postfix": "",
     "delete_cmd_prefix": "del ",
     "library": "var_list.py",
     "varRefreshCmd": "print(var_dic_list())"
    },
    "r": {
     "delete_cmd_postfix": ") ",
     "delete_cmd_prefix": "rm(",
     "library": "var_list.r",
     "varRefreshCmd": "cat(var_dic_list()) "
    }
   },
   "types_to_exclude": [
    "module",
    "function",
    "builtin_function_or_method",
    "instance",
    "_Feature"
   ],
   "window_display": false
  }
 },
 "nbformat": 4,
 "nbformat_minor": 5
}
